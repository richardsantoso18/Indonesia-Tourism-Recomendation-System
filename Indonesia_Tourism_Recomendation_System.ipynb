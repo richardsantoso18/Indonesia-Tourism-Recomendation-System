{
  "nbformat": 4,
  "nbformat_minor": 0,
  "metadata": {
    "colab": {
      "provenance": []
    },
    "kernelspec": {
      "name": "python3",
      "display_name": "Python 3"
    },
    "language_info": {
      "name": "python"
    }
  },
  "cells": [
    {
      "cell_type": "markdown",
      "source": [
        "\n",
        "\n",
        "---\n",
        "# Indonesia Tourism Recommendation\n",
        "\n",
        "---\n",
        "\n",
        "\n"
      ],
      "metadata": {
        "id": "i1To0XCvDh63"
      }
    },
    {
      "cell_type": "markdown",
      "source": [
        "# ***Recomendation Model Analysis***\n",
        "\n",
        "---\n",
        "\n"
      ],
      "metadata": {
        "id": "TmfXYnsO7MSG"
      }
    },
    {
      "cell_type": "markdown",
      "source": [
        "Import Library\n",
        "\n",
        "---\n",
        "mengimport library yang digunakan untuk pembuatan sistem rekomendasi\n"
      ],
      "metadata": {
        "id": "6qRJMHTAK4_X"
      }
    },
    {
      "cell_type": "code",
      "source": [
        "import pandas as pd\n",
        "import numpy as np\n",
        "from sklearn.model_selection import train_test_split\n",
        "from sklearn.preprocessing import StandardScaler\n",
        "from sklearn.linear_model import LinearRegression\n",
        "from sklearn.ensemble import RandomForestRegressor\n",
        "from xgboost import XGBRegressor\n",
        "from sklearn.neighbors import KNeighborsRegressor\n",
        "from sklearn.svm import SVR\n",
        "from sklearn.metrics import mean_absolute_error, mean_squared_error, r2_score\n",
        "import matplotlib.pyplot as plt\n",
        "import seaborn as sns"
      ],
      "metadata": {
        "id": "9VDCfxsx55WC"
      },
      "execution_count": 1,
      "outputs": []
    },
    {
      "cell_type": "markdown",
      "source": [
        "Membaca dan Melihat Dataset\n",
        "\n",
        "---\n",
        "membaca dataset dan menampilkan sample data yang berupa 5 data teratas dari dataset"
      ],
      "metadata": {
        "id": "zuzwJXedLA0w"
      }
    },
    {
      "cell_type": "code",
      "source": [
        "file_path = \"/content/tourism_with_id.csv\"\n",
        "df = pd.read_csv(file_path)\n",
        "\n",
        "df.head()"
      ],
      "metadata": {
        "colab": {
          "base_uri": "https://localhost:8080/",
          "height": 310
        },
        "id": "amXoKSsH6CAQ",
        "outputId": "81e270a7-94c8-4c38-b29c-47efc715b796"
      },
      "execution_count": 2,
      "outputs": [
        {
          "output_type": "execute_result",
          "data": {
            "text/plain": [
              "   Place_Id                         Place_Name  \\\n",
              "0         1                   Monumen Nasional   \n",
              "1         2                           Kota Tua   \n",
              "2         3                      Dunia Fantasi   \n",
              "3         4  Taman Mini Indonesia Indah (TMII)   \n",
              "4         5           Atlantis Water Adventure   \n",
              "\n",
              "                                         Description       Category     City  \\\n",
              "0  Monumen Nasional atau yang populer disingkat d...         Budaya  Jakarta   \n",
              "1  Kota tua di Jakarta, yang juga bernama Kota Tu...         Budaya  Jakarta   \n",
              "2  Dunia Fantasi atau disebut juga Dufan adalah t...  Taman Hiburan  Jakarta   \n",
              "3  Taman Mini Indonesia Indah merupakan suatu kaw...  Taman Hiburan  Jakarta   \n",
              "4  Atlantis Water Adventure atau dikenal dengan A...  Taman Hiburan  Jakarta   \n",
              "\n",
              "    Price  Rating  Time_Minutes  \\\n",
              "0   20000     4.6          15.0   \n",
              "1       0     4.6          90.0   \n",
              "2  270000     4.6         360.0   \n",
              "3   10000     4.5           NaN   \n",
              "4   94000     4.5          60.0   \n",
              "\n",
              "                                        Coordinate       Lat        Long  \\\n",
              "0          {'lat': -6.1753924, 'lng': 106.8271528} -6.175392  106.827153   \n",
              "1  {'lat': -6.137644799999999, 'lng': 106.8171245} -6.137645  106.817125   \n",
              "2  {'lat': -6.125312399999999, 'lng': 106.8335377} -6.125312  106.833538   \n",
              "3  {'lat': -6.302445899999999, 'lng': 106.8951559} -6.302446  106.895156   \n",
              "4             {'lat': -6.12419, 'lng': 106.839134} -6.124190  106.839134   \n",
              "\n",
              "   Unnamed: 11  Unnamed: 12  \n",
              "0          NaN            1  \n",
              "1          NaN            2  \n",
              "2          NaN            3  \n",
              "3          NaN            4  \n",
              "4          NaN            5  "
            ],
            "text/html": [
              "\n",
              "  <div id=\"df-b475beb9-7237-4926-a06d-e65cb84fb0c6\" class=\"colab-df-container\">\n",
              "    <div>\n",
              "<style scoped>\n",
              "    .dataframe tbody tr th:only-of-type {\n",
              "        vertical-align: middle;\n",
              "    }\n",
              "\n",
              "    .dataframe tbody tr th {\n",
              "        vertical-align: top;\n",
              "    }\n",
              "\n",
              "    .dataframe thead th {\n",
              "        text-align: right;\n",
              "    }\n",
              "</style>\n",
              "<table border=\"1\" class=\"dataframe\">\n",
              "  <thead>\n",
              "    <tr style=\"text-align: right;\">\n",
              "      <th></th>\n",
              "      <th>Place_Id</th>\n",
              "      <th>Place_Name</th>\n",
              "      <th>Description</th>\n",
              "      <th>Category</th>\n",
              "      <th>City</th>\n",
              "      <th>Price</th>\n",
              "      <th>Rating</th>\n",
              "      <th>Time_Minutes</th>\n",
              "      <th>Coordinate</th>\n",
              "      <th>Lat</th>\n",
              "      <th>Long</th>\n",
              "      <th>Unnamed: 11</th>\n",
              "      <th>Unnamed: 12</th>\n",
              "    </tr>\n",
              "  </thead>\n",
              "  <tbody>\n",
              "    <tr>\n",
              "      <th>0</th>\n",
              "      <td>1</td>\n",
              "      <td>Monumen Nasional</td>\n",
              "      <td>Monumen Nasional atau yang populer disingkat d...</td>\n",
              "      <td>Budaya</td>\n",
              "      <td>Jakarta</td>\n",
              "      <td>20000</td>\n",
              "      <td>4.6</td>\n",
              "      <td>15.0</td>\n",
              "      <td>{'lat': -6.1753924, 'lng': 106.8271528}</td>\n",
              "      <td>-6.175392</td>\n",
              "      <td>106.827153</td>\n",
              "      <td>NaN</td>\n",
              "      <td>1</td>\n",
              "    </tr>\n",
              "    <tr>\n",
              "      <th>1</th>\n",
              "      <td>2</td>\n",
              "      <td>Kota Tua</td>\n",
              "      <td>Kota tua di Jakarta, yang juga bernama Kota Tu...</td>\n",
              "      <td>Budaya</td>\n",
              "      <td>Jakarta</td>\n",
              "      <td>0</td>\n",
              "      <td>4.6</td>\n",
              "      <td>90.0</td>\n",
              "      <td>{'lat': -6.137644799999999, 'lng': 106.8171245}</td>\n",
              "      <td>-6.137645</td>\n",
              "      <td>106.817125</td>\n",
              "      <td>NaN</td>\n",
              "      <td>2</td>\n",
              "    </tr>\n",
              "    <tr>\n",
              "      <th>2</th>\n",
              "      <td>3</td>\n",
              "      <td>Dunia Fantasi</td>\n",
              "      <td>Dunia Fantasi atau disebut juga Dufan adalah t...</td>\n",
              "      <td>Taman Hiburan</td>\n",
              "      <td>Jakarta</td>\n",
              "      <td>270000</td>\n",
              "      <td>4.6</td>\n",
              "      <td>360.0</td>\n",
              "      <td>{'lat': -6.125312399999999, 'lng': 106.8335377}</td>\n",
              "      <td>-6.125312</td>\n",
              "      <td>106.833538</td>\n",
              "      <td>NaN</td>\n",
              "      <td>3</td>\n",
              "    </tr>\n",
              "    <tr>\n",
              "      <th>3</th>\n",
              "      <td>4</td>\n",
              "      <td>Taman Mini Indonesia Indah (TMII)</td>\n",
              "      <td>Taman Mini Indonesia Indah merupakan suatu kaw...</td>\n",
              "      <td>Taman Hiburan</td>\n",
              "      <td>Jakarta</td>\n",
              "      <td>10000</td>\n",
              "      <td>4.5</td>\n",
              "      <td>NaN</td>\n",
              "      <td>{'lat': -6.302445899999999, 'lng': 106.8951559}</td>\n",
              "      <td>-6.302446</td>\n",
              "      <td>106.895156</td>\n",
              "      <td>NaN</td>\n",
              "      <td>4</td>\n",
              "    </tr>\n",
              "    <tr>\n",
              "      <th>4</th>\n",
              "      <td>5</td>\n",
              "      <td>Atlantis Water Adventure</td>\n",
              "      <td>Atlantis Water Adventure atau dikenal dengan A...</td>\n",
              "      <td>Taman Hiburan</td>\n",
              "      <td>Jakarta</td>\n",
              "      <td>94000</td>\n",
              "      <td>4.5</td>\n",
              "      <td>60.0</td>\n",
              "      <td>{'lat': -6.12419, 'lng': 106.839134}</td>\n",
              "      <td>-6.124190</td>\n",
              "      <td>106.839134</td>\n",
              "      <td>NaN</td>\n",
              "      <td>5</td>\n",
              "    </tr>\n",
              "  </tbody>\n",
              "</table>\n",
              "</div>\n",
              "    <div class=\"colab-df-buttons\">\n",
              "\n",
              "  <div class=\"colab-df-container\">\n",
              "    <button class=\"colab-df-convert\" onclick=\"convertToInteractive('df-b475beb9-7237-4926-a06d-e65cb84fb0c6')\"\n",
              "            title=\"Convert this dataframe to an interactive table.\"\n",
              "            style=\"display:none;\">\n",
              "\n",
              "  <svg xmlns=\"http://www.w3.org/2000/svg\" height=\"24px\" viewBox=\"0 -960 960 960\">\n",
              "    <path d=\"M120-120v-720h720v720H120Zm60-500h600v-160H180v160Zm220 220h160v-160H400v160Zm0 220h160v-160H400v160ZM180-400h160v-160H180v160Zm440 0h160v-160H620v160ZM180-180h160v-160H180v160Zm440 0h160v-160H620v160Z\"/>\n",
              "  </svg>\n",
              "    </button>\n",
              "\n",
              "  <style>\n",
              "    .colab-df-container {\n",
              "      display:flex;\n",
              "      gap: 12px;\n",
              "    }\n",
              "\n",
              "    .colab-df-convert {\n",
              "      background-color: #E8F0FE;\n",
              "      border: none;\n",
              "      border-radius: 50%;\n",
              "      cursor: pointer;\n",
              "      display: none;\n",
              "      fill: #1967D2;\n",
              "      height: 32px;\n",
              "      padding: 0 0 0 0;\n",
              "      width: 32px;\n",
              "    }\n",
              "\n",
              "    .colab-df-convert:hover {\n",
              "      background-color: #E2EBFA;\n",
              "      box-shadow: 0px 1px 2px rgba(60, 64, 67, 0.3), 0px 1px 3px 1px rgba(60, 64, 67, 0.15);\n",
              "      fill: #174EA6;\n",
              "    }\n",
              "\n",
              "    .colab-df-buttons div {\n",
              "      margin-bottom: 4px;\n",
              "    }\n",
              "\n",
              "    [theme=dark] .colab-df-convert {\n",
              "      background-color: #3B4455;\n",
              "      fill: #D2E3FC;\n",
              "    }\n",
              "\n",
              "    [theme=dark] .colab-df-convert:hover {\n",
              "      background-color: #434B5C;\n",
              "      box-shadow: 0px 1px 3px 1px rgba(0, 0, 0, 0.15);\n",
              "      filter: drop-shadow(0px 1px 2px rgba(0, 0, 0, 0.3));\n",
              "      fill: #FFFFFF;\n",
              "    }\n",
              "  </style>\n",
              "\n",
              "    <script>\n",
              "      const buttonEl =\n",
              "        document.querySelector('#df-b475beb9-7237-4926-a06d-e65cb84fb0c6 button.colab-df-convert');\n",
              "      buttonEl.style.display =\n",
              "        google.colab.kernel.accessAllowed ? 'block' : 'none';\n",
              "\n",
              "      async function convertToInteractive(key) {\n",
              "        const element = document.querySelector('#df-b475beb9-7237-4926-a06d-e65cb84fb0c6');\n",
              "        const dataTable =\n",
              "          await google.colab.kernel.invokeFunction('convertToInteractive',\n",
              "                                                    [key], {});\n",
              "        if (!dataTable) return;\n",
              "\n",
              "        const docLinkHtml = 'Like what you see? Visit the ' +\n",
              "          '<a target=\"_blank\" href=https://colab.research.google.com/notebooks/data_table.ipynb>data table notebook</a>'\n",
              "          + ' to learn more about interactive tables.';\n",
              "        element.innerHTML = '';\n",
              "        dataTable['output_type'] = 'display_data';\n",
              "        await google.colab.output.renderOutput(dataTable, element);\n",
              "        const docLink = document.createElement('div');\n",
              "        docLink.innerHTML = docLinkHtml;\n",
              "        element.appendChild(docLink);\n",
              "      }\n",
              "    </script>\n",
              "  </div>\n",
              "\n",
              "\n",
              "<div id=\"df-a4adba1a-ccc6-435a-bfde-5984a3ca829e\">\n",
              "  <button class=\"colab-df-quickchart\" onclick=\"quickchart('df-a4adba1a-ccc6-435a-bfde-5984a3ca829e')\"\n",
              "            title=\"Suggest charts\"\n",
              "            style=\"display:none;\">\n",
              "\n",
              "<svg xmlns=\"http://www.w3.org/2000/svg\" height=\"24px\"viewBox=\"0 0 24 24\"\n",
              "     width=\"24px\">\n",
              "    <g>\n",
              "        <path d=\"M19 3H5c-1.1 0-2 .9-2 2v14c0 1.1.9 2 2 2h14c1.1 0 2-.9 2-2V5c0-1.1-.9-2-2-2zM9 17H7v-7h2v7zm4 0h-2V7h2v10zm4 0h-2v-4h2v4z\"/>\n",
              "    </g>\n",
              "</svg>\n",
              "  </button>\n",
              "\n",
              "<style>\n",
              "  .colab-df-quickchart {\n",
              "      --bg-color: #E8F0FE;\n",
              "      --fill-color: #1967D2;\n",
              "      --hover-bg-color: #E2EBFA;\n",
              "      --hover-fill-color: #174EA6;\n",
              "      --disabled-fill-color: #AAA;\n",
              "      --disabled-bg-color: #DDD;\n",
              "  }\n",
              "\n",
              "  [theme=dark] .colab-df-quickchart {\n",
              "      --bg-color: #3B4455;\n",
              "      --fill-color: #D2E3FC;\n",
              "      --hover-bg-color: #434B5C;\n",
              "      --hover-fill-color: #FFFFFF;\n",
              "      --disabled-bg-color: #3B4455;\n",
              "      --disabled-fill-color: #666;\n",
              "  }\n",
              "\n",
              "  .colab-df-quickchart {\n",
              "    background-color: var(--bg-color);\n",
              "    border: none;\n",
              "    border-radius: 50%;\n",
              "    cursor: pointer;\n",
              "    display: none;\n",
              "    fill: var(--fill-color);\n",
              "    height: 32px;\n",
              "    padding: 0;\n",
              "    width: 32px;\n",
              "  }\n",
              "\n",
              "  .colab-df-quickchart:hover {\n",
              "    background-color: var(--hover-bg-color);\n",
              "    box-shadow: 0 1px 2px rgba(60, 64, 67, 0.3), 0 1px 3px 1px rgba(60, 64, 67, 0.15);\n",
              "    fill: var(--button-hover-fill-color);\n",
              "  }\n",
              "\n",
              "  .colab-df-quickchart-complete:disabled,\n",
              "  .colab-df-quickchart-complete:disabled:hover {\n",
              "    background-color: var(--disabled-bg-color);\n",
              "    fill: var(--disabled-fill-color);\n",
              "    box-shadow: none;\n",
              "  }\n",
              "\n",
              "  .colab-df-spinner {\n",
              "    border: 2px solid var(--fill-color);\n",
              "    border-color: transparent;\n",
              "    border-bottom-color: var(--fill-color);\n",
              "    animation:\n",
              "      spin 1s steps(1) infinite;\n",
              "  }\n",
              "\n",
              "  @keyframes spin {\n",
              "    0% {\n",
              "      border-color: transparent;\n",
              "      border-bottom-color: var(--fill-color);\n",
              "      border-left-color: var(--fill-color);\n",
              "    }\n",
              "    20% {\n",
              "      border-color: transparent;\n",
              "      border-left-color: var(--fill-color);\n",
              "      border-top-color: var(--fill-color);\n",
              "    }\n",
              "    30% {\n",
              "      border-color: transparent;\n",
              "      border-left-color: var(--fill-color);\n",
              "      border-top-color: var(--fill-color);\n",
              "      border-right-color: var(--fill-color);\n",
              "    }\n",
              "    40% {\n",
              "      border-color: transparent;\n",
              "      border-right-color: var(--fill-color);\n",
              "      border-top-color: var(--fill-color);\n",
              "    }\n",
              "    60% {\n",
              "      border-color: transparent;\n",
              "      border-right-color: var(--fill-color);\n",
              "    }\n",
              "    80% {\n",
              "      border-color: transparent;\n",
              "      border-right-color: var(--fill-color);\n",
              "      border-bottom-color: var(--fill-color);\n",
              "    }\n",
              "    90% {\n",
              "      border-color: transparent;\n",
              "      border-bottom-color: var(--fill-color);\n",
              "    }\n",
              "  }\n",
              "</style>\n",
              "\n",
              "  <script>\n",
              "    async function quickchart(key) {\n",
              "      const quickchartButtonEl =\n",
              "        document.querySelector('#' + key + ' button');\n",
              "      quickchartButtonEl.disabled = true;  // To prevent multiple clicks.\n",
              "      quickchartButtonEl.classList.add('colab-df-spinner');\n",
              "      try {\n",
              "        const charts = await google.colab.kernel.invokeFunction(\n",
              "            'suggestCharts', [key], {});\n",
              "      } catch (error) {\n",
              "        console.error('Error during call to suggestCharts:', error);\n",
              "      }\n",
              "      quickchartButtonEl.classList.remove('colab-df-spinner');\n",
              "      quickchartButtonEl.classList.add('colab-df-quickchart-complete');\n",
              "    }\n",
              "    (() => {\n",
              "      let quickchartButtonEl =\n",
              "        document.querySelector('#df-a4adba1a-ccc6-435a-bfde-5984a3ca829e button');\n",
              "      quickchartButtonEl.style.display =\n",
              "        google.colab.kernel.accessAllowed ? 'block' : 'none';\n",
              "    })();\n",
              "  </script>\n",
              "</div>\n",
              "\n",
              "    </div>\n",
              "  </div>\n"
            ],
            "application/vnd.google.colaboratory.intrinsic+json": {
              "type": "dataframe",
              "variable_name": "df",
              "summary": "{\n  \"name\": \"df\",\n  \"rows\": 437,\n  \"fields\": [\n    {\n      \"column\": \"Place_Id\",\n      \"properties\": {\n        \"dtype\": \"number\",\n        \"std\": 126,\n        \"min\": 1,\n        \"max\": 437,\n        \"num_unique_values\": 437,\n        \"samples\": [\n          396,\n          79,\n          279\n        ],\n        \"semantic_type\": \"\",\n        \"description\": \"\"\n      }\n    },\n    {\n      \"column\": \"Place_Name\",\n      \"properties\": {\n        \"dtype\": \"string\",\n        \"num_unique_values\": 437,\n        \"samples\": [\n          \"Monumen Kapal Selam\",\n          \"Taman Spathodea\",\n          \"Masjid Agung Trans Studio Bandung\"\n        ],\n        \"semantic_type\": \"\",\n        \"description\": \"\"\n      }\n    },\n    {\n      \"column\": \"Description\",\n      \"properties\": {\n        \"dtype\": \"string\",\n        \"num_unique_values\": 437,\n        \"samples\": [\n          \"Monumen Kapal Selam, atau disingkat Monkasel, adalah sebuah museum kapal selam yang terdapat di Embong Kaliasin, Genteng, Surabaya. Terletak di pusat kota, monumen ini sebenarnya merupakan kapal selam KRI Pasopati 410, salah satu armada Angkatan Laut Republik Indonesia buatan Uni Soviet tahun 1952. Kapal selam ini pernah dilibatkan dalam Pertempuran Laut Aru untuk membebaskan Irian Barat dari pendudukan Belanda.\\\\nKapal selam ini kemudian dibawa ke darat dan dijadikan monumen untuk memperingati keberanian pahlawan Indonesia. Monkasel berada di Jalan Pemuda, tepat di sebelah Plaza Surabaya. Selain interior kapal selam, di sini juga diadakan pemutaran film tentang proses peperangan yang terjadi di Laut Aru. Jika ingin mengunjungi tempat wisata ini, maka akan ditemani oleh seorang pemandu lokal yang terdapat di sana.\\\\nAda cerita unik di balik hadirnya monumen Kapal Selam ini. Pada suatu malam Pak Drajat Budiyanto yang merupakan mantan KKM KRI Pasopati 410 (buatan Rusia) ini dan juga mantan KKM KRI Cakra 401 (buatan Jerman Barat), bermimpi diperintahkan oleh KSAL pada waktu itu untuk membawa kapal selam ini melayari Kali Mas. Ternyata mimpi itu menjadi kenyataan. Dia ditugaskan untuk memajang kapal selam di samping Surabaya Plaza. Caranya dengan memotong kapal selam ini menjadi beberapa bagian, kemudian diangkut ke darat, dan dirangkai dan disambung kembali menjadi kapal selam yang utuh.\",\n          \"Objek Wisata Taman Spathodea di Jagakarsa DKI Jakarta Selatan Jakarta adalah salah satu tempat wisata yang berada di Jl. Kebagusan Raya, Kecamatan Jagakarsa, Kota Jakarta Selatan, Daerah Khusus Ibukota Jakarta, Indonesia. Objek Wisata Taman Spathodea di Jagakarsa DKI Jakarta Selatan Jakarta adalah tempat wisata yang ramai dengan wisatawan pada hari biasa maupun saat liburan. Yang menjadi daya tarik Taman Spathodea memiliki banyak jenis tanaman yang ditanam baik pepohonan dan bunga-bunga yang menghiasi area taman. Ada danau kecil yang berada ditengah taman akan membuat nyaman pengunjung. Banyak Fasilitas umum juga tersedia di Taman Spathodea seperti misalnya lintasan jogging, kolam ikan, outdoor gym, taman bermain untuk anak-anak, toilet, parkiran yang cukup luas dan tempat duduk yang cukup nyaman. Taman Spathodea ini hanya buka mulai pukul 05.00 \\u2013 18.00 WIB jadi kalo sudah mulai malam taman ini akan ditutup untuk umum.\",\n          \"Masjid Agung Trans Studio Bandung (TSB) berdiri megah. Rumah ibadah seluas 4.000 meter persegi bergaya Timur Tengah ini menjadi oase di tengah-tengah pusat perbelanjaan dan tempat rekreasi. konsep masjid modern yang mengadopsi ala Timur Tengah ini berdasarkan arahan Chairul Tanjung (CT), selaku pemiki CT Corp. Dia langsung menerawang guna mewujudkan desain Masjid Agung TSB yang kental dengan sentuhan Masjid Nabawi.\"\n        ],\n        \"semantic_type\": \"\",\n        \"description\": \"\"\n      }\n    },\n    {\n      \"column\": \"Category\",\n      \"properties\": {\n        \"dtype\": \"category\",\n        \"num_unique_values\": 6,\n        \"samples\": [\n          \"Budaya\",\n          \"Taman Hiburan\",\n          \"Tempat Ibadah\"\n        ],\n        \"semantic_type\": \"\",\n        \"description\": \"\"\n      }\n    },\n    {\n      \"column\": \"City\",\n      \"properties\": {\n        \"dtype\": \"category\",\n        \"num_unique_values\": 5,\n        \"samples\": [\n          \"Yogyakarta\",\n          \"Surabaya\",\n          \"Bandung\"\n        ],\n        \"semantic_type\": \"\",\n        \"description\": \"\"\n      }\n    },\n    {\n      \"column\": \"Price\",\n      \"properties\": {\n        \"dtype\": \"number\",\n        \"std\": 66446,\n        \"min\": 0,\n        \"max\": 900000,\n        \"num_unique_values\": 50,\n        \"samples\": [\n          185000,\n          81000,\n          7000\n        ],\n        \"semantic_type\": \"\",\n        \"description\": \"\"\n      }\n    },\n    {\n      \"column\": \"Rating\",\n      \"properties\": {\n        \"dtype\": \"number\",\n        \"std\": 0.2085873964321152,\n        \"min\": 3.4,\n        \"max\": 5.0,\n        \"num_unique_values\": 14,\n        \"samples\": [\n          4.1,\n          3.9,\n          4.6\n        ],\n        \"semantic_type\": \"\",\n        \"description\": \"\"\n      }\n    },\n    {\n      \"column\": \"Time_Minutes\",\n      \"properties\": {\n        \"dtype\": \"number\",\n        \"std\": 52.87233887466559,\n        \"min\": 10.0,\n        \"max\": 360.0,\n        \"num_unique_values\": 15,\n        \"samples\": [\n          180.0,\n          240.0,\n          15.0\n        ],\n        \"semantic_type\": \"\",\n        \"description\": \"\"\n      }\n    },\n    {\n      \"column\": \"Coordinate\",\n      \"properties\": {\n        \"dtype\": \"string\",\n        \"num_unique_values\": 437,\n        \"samples\": [\n          \"{'lat': -7.2654304, 'lng': 112.7503052}\",\n          \"{'lat': -6.3226133, 'lng': 106.8241871}\",\n          \"{'lat': -6.925963500000001, 'lng': 107.6354278}\"\n        ],\n        \"semantic_type\": \"\",\n        \"description\": \"\"\n      }\n    },\n    {\n      \"column\": \"Lat\",\n      \"properties\": {\n        \"dtype\": \"number\",\n        \"std\": 0.7272412184795901,\n        \"min\": -8.1978943,\n        \"max\": 1.07888,\n        \"num_unique_values\": 437,\n        \"samples\": [\n          -7.2654304,\n          -6.3226133,\n          -6.9259635\n        ],\n        \"semantic_type\": \"\",\n        \"description\": \"\"\n      }\n    },\n    {\n      \"column\": \"Long\",\n      \"properties\": {\n        \"dtype\": \"number\",\n        \"std\": 1.9628479600673732,\n        \"min\": 103.931398,\n        \"max\": 112.8216622,\n        \"num_unique_values\": 437,\n        \"samples\": [\n          112.7503052,\n          106.8241871,\n          107.6354278\n        ],\n        \"semantic_type\": \"\",\n        \"description\": \"\"\n      }\n    },\n    {\n      \"column\": \"Unnamed: 11\",\n      \"properties\": {\n        \"dtype\": \"number\",\n        \"std\": null,\n        \"min\": null,\n        \"max\": null,\n        \"num_unique_values\": 0,\n        \"samples\": [],\n        \"semantic_type\": \"\",\n        \"description\": \"\"\n      }\n    },\n    {\n      \"column\": \"Unnamed: 12\",\n      \"properties\": {\n        \"dtype\": \"number\",\n        \"std\": 126,\n        \"min\": 1,\n        \"max\": 437,\n        \"num_unique_values\": 437,\n        \"samples\": [],\n        \"semantic_type\": \"\",\n        \"description\": \"\"\n      }\n    }\n  ]\n}"
            }
          },
          "metadata": {},
          "execution_count": 2
        }
      ]
    },
    {
      "cell_type": "markdown",
      "source": [
        "Mengecek Jumlah data pada dataset\n",
        "\n",
        "---\n",
        "Mengecek jumlah data dan diketahui terdapat 437 baris data & 13 kolom data\n"
      ],
      "metadata": {
        "id": "QOHY1-01LPRc"
      }
    },
    {
      "cell_type": "code",
      "source": [
        "df.shape"
      ],
      "metadata": {
        "colab": {
          "base_uri": "https://localhost:8080/"
        },
        "id": "L4-MwxoHFShR",
        "outputId": "9a42cd48-6318-4fe5-ec41-c5df3d04fb5e"
      },
      "execution_count": 3,
      "outputs": [
        {
          "output_type": "execute_result",
          "data": {
            "text/plain": [
              "(437, 13)"
            ]
          },
          "metadata": {},
          "execution_count": 3
        }
      ]
    },
    {
      "cell_type": "markdown",
      "source": [
        "Mengecek Kolom yang pada Dataset\n",
        "\n",
        "---\n",
        "Terdapat 13 kolom dengan nama : 'Place_Id', 'Place_Name', 'Description', 'Category', 'City', 'Price', 'Rating', 'Time_Minutes', 'Coordinate', 'Lat', 'Long', 'Unnamed: 11', 'Unnamed: 12'\n"
      ],
      "metadata": {
        "id": "9nCgNeGPLiTf"
      }
    },
    {
      "cell_type": "code",
      "source": [
        "df.columns"
      ],
      "metadata": {
        "colab": {
          "base_uri": "https://localhost:8080/"
        },
        "id": "28qEkib9FTTC",
        "outputId": "120a5a0f-6d15-49e0-f3cf-ca1a001b853d"
      },
      "execution_count": 4,
      "outputs": [
        {
          "output_type": "execute_result",
          "data": {
            "text/plain": [
              "Index(['Place_Id', 'Place_Name', 'Description', 'Category', 'City', 'Price',\n",
              "       'Rating', 'Time_Minutes', 'Coordinate', 'Lat', 'Long', 'Unnamed: 11',\n",
              "       'Unnamed: 12'],\n",
              "      dtype='object')"
            ]
          },
          "metadata": {},
          "execution_count": 4
        }
      ]
    },
    {
      "cell_type": "markdown",
      "source": [
        "Mengecek Tipe Data pada Dataset\n",
        "\n",
        "---\n",
        "mengecek tipe data pada setiap fitur pada dataset\n"
      ],
      "metadata": {
        "id": "08gNTk6WLqA7"
      }
    },
    {
      "cell_type": "code",
      "source": [
        "df.info()"
      ],
      "metadata": {
        "colab": {
          "base_uri": "https://localhost:8080/"
        },
        "id": "5sZKuNlVFVzh",
        "outputId": "fcab90cc-0b16-4bef-d2d3-7bfe72b386cd"
      },
      "execution_count": 5,
      "outputs": [
        {
          "output_type": "stream",
          "name": "stdout",
          "text": [
            "<class 'pandas.core.frame.DataFrame'>\n",
            "RangeIndex: 437 entries, 0 to 436\n",
            "Data columns (total 13 columns):\n",
            " #   Column        Non-Null Count  Dtype  \n",
            "---  ------        --------------  -----  \n",
            " 0   Place_Id      437 non-null    int64  \n",
            " 1   Place_Name    437 non-null    object \n",
            " 2   Description   437 non-null    object \n",
            " 3   Category      437 non-null    object \n",
            " 4   City          437 non-null    object \n",
            " 5   Price         437 non-null    int64  \n",
            " 6   Rating        437 non-null    float64\n",
            " 7   Time_Minutes  205 non-null    float64\n",
            " 8   Coordinate    437 non-null    object \n",
            " 9   Lat           437 non-null    float64\n",
            " 10  Long          437 non-null    float64\n",
            " 11  Unnamed: 11   0 non-null      float64\n",
            " 12  Unnamed: 12   437 non-null    int64  \n",
            "dtypes: float64(5), int64(3), object(5)\n",
            "memory usage: 44.5+ KB\n"
          ]
        }
      ]
    },
    {
      "cell_type": "markdown",
      "source": [
        "Mengecek Duplikasi data\n",
        "\n",
        "---\n",
        "\n",
        "Setelah melakukan pengecekan dapat diketahui bahwa tidak ada duplikasi data"
      ],
      "metadata": {
        "id": "naqJeniQL3ns"
      }
    },
    {
      "cell_type": "code",
      "source": [
        "duplicate_count = df.duplicated().sum()\n",
        "print(f\"Duplicated Data: {duplicate_count}\")"
      ],
      "metadata": {
        "colab": {
          "base_uri": "https://localhost:8080/"
        },
        "id": "sgSn0WEHFZ9g",
        "outputId": "aa075fe4-c694-4014-a747-63ba775ae2ac"
      },
      "execution_count": 6,
      "outputs": [
        {
          "output_type": "stream",
          "name": "stdout",
          "text": [
            "Duplicated Data: 0\n"
          ]
        }
      ]
    },
    {
      "cell_type": "markdown",
      "source": [
        "Mengecek Nilai Kosong pada Dataset\n",
        "\n",
        "---\n",
        "\n",
        "terdapat 232 nilai kosong pada kolom Time_Minutes & 437 nilai kosong pada unamed: 11"
      ],
      "metadata": {
        "id": "vf3ihCF-MBAN"
      }
    },
    {
      "cell_type": "code",
      "source": [
        "print(df.isnull().sum())"
      ],
      "metadata": {
        "colab": {
          "base_uri": "https://localhost:8080/"
        },
        "id": "VWcY0Ml-Fb8H",
        "outputId": "de143c92-185a-4c28-8e79-2d4762ea75c2"
      },
      "execution_count": 7,
      "outputs": [
        {
          "output_type": "stream",
          "name": "stdout",
          "text": [
            "Place_Id          0\n",
            "Place_Name        0\n",
            "Description       0\n",
            "Category          0\n",
            "City              0\n",
            "Price             0\n",
            "Rating            0\n",
            "Time_Minutes    232\n",
            "Coordinate        0\n",
            "Lat               0\n",
            "Long              0\n",
            "Unnamed: 11     437\n",
            "Unnamed: 12       0\n",
            "dtype: int64\n"
          ]
        }
      ]
    },
    {
      "cell_type": "markdown",
      "source": [
        "Mengecek Distribusi Waktu Kunjungan\n",
        "\n",
        "---\n",
        "\n",
        "Mengecek distribusi waktu kunjungan awal"
      ],
      "metadata": {
        "id": "4nu7D9Z9MWNE"
      }
    },
    {
      "cell_type": "code",
      "source": [
        "plt.figure(figsize=(7,3))\n",
        "sns.histplot(df[\"Time_Minutes\"].dropna(), bins=10, kde=True)\n",
        "plt.title(\"Distribusi Time_Minutes\")\n",
        "plt.xlabel(\"Durasi (menit)\")\n",
        "plt.ylabel(\"Frekuensi\")\n",
        "plt.show()"
      ],
      "metadata": {
        "colab": {
          "base_uri": "https://localhost:8080/",
          "height": 333
        },
        "id": "eLmlAZHXU4Y8",
        "outputId": "e26fc455-7fd2-4d32-9512-b7262b75fa20"
      },
      "execution_count": 8,
      "outputs": [
        {
          "output_type": "display_data",
          "data": {
            "text/plain": [
              "<Figure size 700x300 with 1 Axes>"
            ],
            "image/png": "[encoded data removed]"
          },
          "metadata": {}
        }
      ]
    },
    {
      "cell_type": "markdown",
      "source": [
        "Pengolahan Data\n",
        "\n",
        "---\n",
        "\n",
        "Unnamed: 11 berisi nilai kosong\n",
        "Unnamed: 12 hanya berisi nomor indeks\n",
        "Coordinate tidak diperlukan karena sudah ada Lat & Long\n",
        "\n",
        "1. Menghilangkan kolom unnamed:11, unnamed:12, dan Coordinate\n",
        "- Unnamed: 11 berisi nilai kosong\n",
        "- Unnamed: 12 hanya berisi nomor indeks\n",
        "- Coordinate tidak diperlukan karena sudah ada Lat & Long\n",
        "2. Mengisi Nilai waktu kunjungan (Time_Minutes) menggunakan median per category dan yang tidak terisi akan diisi dengan median keseluruhan\n",
        "3. Mengubah variabel category dan variabel city menjadi variabel numerik\n",
        "\n",
        "4. Mengecek kembali nilai kosong di setiap kolom\n",
        "\n"
      ],
      "metadata": {
        "id": "9Kg0YY_LOdyK"
      }
    },
    {
      "cell_type": "code",
      "source": [
        "# Data preprocessing\n",
        "df = df.drop(columns=[\"Unnamed: 11\", \"Unnamed: 12\", \"Coordinate\"])\n",
        "df[\"Time_Minutes\"] = df.groupby(\"Category\")[\"Time_Minutes\"].transform(lambda x: x.fillna(x.median()))\n",
        "df.update(df[\"Time_Minutes\"].fillna(df[\"Time_Minutes\"].median()))\n",
        "\n",
        "df_encoded = pd.get_dummies(df, columns=[\"Category\", \"City\"], drop_first=True)\n",
        "\n",
        "print(df.isnull().sum())"
      ],
      "metadata": {
        "colab": {
          "base_uri": "https://localhost:8080/"
        },
        "id": "KJdt_JhFDf3L",
        "outputId": "01eeff92-3168-48d6-d5f5-504419830add"
      },
      "execution_count": 9,
      "outputs": [
        {
          "output_type": "stream",
          "name": "stdout",
          "text": [
            "Place_Id        0\n",
            "Place_Name      0\n",
            "Description     0\n",
            "Category        0\n",
            "City            0\n",
            "Price           0\n",
            "Rating          0\n",
            "Time_Minutes    0\n",
            "Lat             0\n",
            "Long            0\n",
            "dtype: int64\n"
          ]
        }
      ]
    },
    {
      "cell_type": "markdown",
      "source": [
        "Mengecek Distribusi Waktu Kunjungan\n",
        "\n",
        "---\n",
        "Mengecek Distribusi Waktu Kunjungan setelah Imputasi\n"
      ],
      "metadata": {
        "id": "oOJkddKW6mgO"
      }
    },
    {
      "cell_type": "code",
      "source": [
        "plt.figure(figsize=(7,3))\n",
        "sns.histplot(df[\"Time_Minutes\"].dropna(), bins=10, kde=True)\n",
        "plt.title(\"Distribusi Time_Minutes setelah Imputasi\")\n",
        "plt.xlabel(\"Durasi (menit)\")\n",
        "plt.ylabel(\"Frekuensi\")\n",
        "plt.show()"
      ],
      "metadata": {
        "colab": {
          "base_uri": "https://localhost:8080/",
          "height": 333
        },
        "id": "5U2WwKfwd6FS",
        "outputId": "344a0d36-f274-4c88-b3c2-1830303bfcc0"
      },
      "execution_count": 10,
      "outputs": [
        {
          "output_type": "display_data",
          "data": {
            "text/plain": [
              "<Figure size 700x300 with 1 Axes>"
            ],
            "image/png": "[encoded data removed]"
          },
          "metadata": {}
        }
      ]
    },
    {
      "cell_type": "markdown",
      "source": [
        "Feature-Target Separation & Train-Test Split\n",
        "\n",
        "---\n",
        "\n",
        "\n",
        "1. Menghapus kolom \"Place_Id\", \"Place_Name\", \"Description\", dan \"Rating\" karena tidak berguna sebagai fitur dalam prediksi dan Kolom \"Rating\" dipilih sebagai target yang akan diprediksi oleh model\n",
        "\n",
        "  - X berisi semua fitur kecuali kolom-kolom yang tidak relevan.\n",
        "\n",
        "  - y berisi nilai rating yang akan diprediksi.\n",
        "\n",
        "2. Data dibagi menjadi 80% training & 20% testing"
      ],
      "metadata": {
        "id": "ztsuVWNl6fdS"
      }
    },
    {
      "cell_type": "code",
      "source": [
        "# Split features and target\n",
        "X = df_encoded.drop(columns=[\"Place_Id\", \"Place_Name\", \"Description\", \"Rating\"])\n",
        "y = df_encoded[\"Rating\"]\n",
        "\n",
        "# Data Splitting\n",
        "X_train, X_test, y_train, y_test = train_test_split(X, y, test_size=0.2, random_state=42)"
      ],
      "metadata": {
        "id": "2gM4_6duDmnn"
      },
      "execution_count": 11,
      "outputs": []
    },
    {
      "cell_type": "markdown",
      "source": [
        "Feature Scaling\n",
        "\n",
        "---\n",
        "\n",
        "\n",
        "- Melakukan Standard Scaling pada fitur agar memiliki distribusi dengan mean = 0 dan standar deviasi = 1, sehingga model bekerja lebih optimal.\n",
        "\n",
        "- mengonversi hasil StandardScaler yang berbentuk array, menjadi DataFrame Pandas dengan nama kolom yang sama\n",
        "\n"
      ],
      "metadata": {
        "id": "6eWlttaH6UDo"
      }
    },
    {
      "cell_type": "code",
      "source": [
        "# Feature scaling\n",
        "scaler = StandardScaler()\n",
        "X_train_scaled = scaler.fit_transform(X_train)\n",
        "X_test_scaled = scaler.transform(X_test)\n",
        "\n",
        "# Convert to df\n",
        "X_train_scaled_df = pd.DataFrame(X_train_scaled, columns=X.columns)"
      ],
      "metadata": {
        "id": "s_MEq0jpDojt"
      },
      "execution_count": 12,
      "outputs": []
    },
    {
      "cell_type": "markdown",
      "source": [
        "Data Distribution Analysis\n",
        "\n",
        "---\n",
        "Megecek distribusi kategori wisata, distribusi wisata per kota, distribusi rating wisata, dan distribusi harga wisata\n"
      ],
      "metadata": {
        "id": "i3sHwwKDerIT"
      }
    },
    {
      "cell_type": "code",
      "source": [
        "# Figure Layout\n",
        "fig, axes = plt.subplots(2, 2, figsize=(15, 10))\n",
        "plt.suptitle(\"Analisis Distribusi Data Wisata\")\n",
        "\n",
        "# Category\n",
        "df[\"Category\"].value_counts().plot(kind=\"bar\", color=sns.color_palette(\"pastel\"), edgecolor=\"black\", ax=axes[0, 0])\n",
        "axes[0, 0].set_title(\"Distribusi Kategori Wisata\")\n",
        "axes[0, 0].set_xlabel(\"Kategori\")\n",
        "axes[0, 0].set_ylabel(\"Jumlah\")\n",
        "axes[0, 0].tick_params(axis=\"x\", rotation=10)\n",
        "\n",
        "for p in axes[0, 0].patches:\n",
        "    axes[0, 0].annotate(f\"{p.get_height()}\", (p.get_x() + p.get_width() / 2., p.get_height()),\n",
        "                         ha='center', va='center', fontsize=10, color='black', xytext=(0, 5),\n",
        "                         textcoords='offset points')\n",
        "\n",
        "# City\n",
        "df[\"City\"].value_counts().plot(kind=\"bar\", color=sns.color_palette(\"muted\"), edgecolor=\"black\", ax=axes[0, 1])\n",
        "axes[0, 1].set_title(\"Distribusi Wisata per Kota\")\n",
        "axes[0, 1].set_xlabel(\"Kota\")\n",
        "axes[0, 1].set_ylabel(\"Jumlah\")\n",
        "axes[0, 1].tick_params(axis=\"x\", rotation=0)\n",
        "\n",
        "for p in axes[0, 1].patches:\n",
        "    axes[0, 1].annotate(f\"{p.get_height()}\", (p.get_x() + p.get_width() / 2., p.get_height()),\n",
        "                         ha='center', va='center', fontsize=10, color='black', xytext=(0, 5),\n",
        "                         textcoords='offset points')\n",
        "\n",
        "# Rating\n",
        "sns.histplot(df[\"Rating\"], bins=10, kde=True, color=\"purple\", ax=axes[1, 0])\n",
        "axes[1, 0].set_title(\"Distribusi Rating Wisata\")\n",
        "axes[1, 0].set_xlabel(\"Rating\")\n",
        "axes[1, 0].set_ylabel(\"Frekuensi\")\n",
        "\n",
        "# Price\n",
        "sns.histplot(df[\"Price\"], bins=10, kde=True, color=\"green\", ax=axes[1, 1])\n",
        "axes[1, 1].set_title(\"Distribusi Harga Wisata\")\n",
        "axes[1, 1].set_xlabel(\"Harga (Price)\")\n",
        "axes[1, 1].set_ylabel(\"Frekuensi\")\n",
        "\n",
        "plt.tight_layout()\n",
        "plt.show()"
      ],
      "metadata": {
        "colab": {
          "base_uri": "https://localhost:8080/",
          "height": 1000
        },
        "id": "6QrCmZb0ZZ6l",
        "outputId": "fcdd30c7-9b4b-47c5-e09f-9ab5a7ddccd6"
      },
      "execution_count": 13,
      "outputs": [
        {
          "output_type": "display_data",
          "data": {
            "text/plain": [
              "<Figure size 1500x1000 with 4 Axes>"
            ],
            "image/png": "[encoded data removed]"
          },
          "metadata": {}
        }
      ]
    },
    {
      "cell_type": "markdown",
      "source": [
        "Initialize models & Train models and make predictions\n",
        "\n",
        "---\n",
        "melakukan inisiasi model yang digunakan untuk training. Model yang digunakan adalah linear regression, random forest, XGBoost, KNN, dan SVR.\n",
        "setelah training, melakukan prediksi untuk mencari 5 hasil prediksi pertama setiap model\n",
        "\n"
      ],
      "metadata": {
        "id": "x6egd2wHjpj3"
      }
    },
    {
      "cell_type": "code",
      "source": [
        "# Initialize models\n",
        "models = {\n",
        "    \"Linear Regression\": LinearRegression(),\n",
        "    \"Random Forest\": RandomForestRegressor(n_estimators=100, random_state=42),\n",
        "    \"XGBoost\": XGBRegressor(n_estimators=100, random_state=42),\n",
        "    \"KNN\": KNeighborsRegressor(n_neighbors=5, metric='euclidean'),\n",
        "    \"SVR\": SVR()\n",
        "}\n",
        "\n",
        "# Train models and make predictions\n",
        "predictions = {}\n",
        "for name, model in models.items():\n",
        "    model.fit(X_train_scaled, y_train)\n",
        "    predictions[name] = model.predict(X_test_scaled)\n",
        "\n",
        "for name, pred in predictions.items():\n",
        "   print(f\"{name} Predictions: {pred[:5]}\")"
      ],
      "metadata": {
        "colab": {
          "base_uri": "https://localhost:8080/"
        },
        "id": "oovHoAD7DqDx",
        "outputId": "4e671060-08a1-4685-ee4e-5296de82c9f6"
      },
      "execution_count": 14,
      "outputs": [
        {
          "output_type": "stream",
          "name": "stdout",
          "text": [
            "Linear Regression Predictions: [4.5022585  4.42844966 4.67412808 4.40544793 4.37981542]\n",
            "Random Forest Predictions: [4.461 4.481 4.753 4.456 4.469]\n",
            "XGBoost Predictions: [4.4596276 4.344308  4.7490706 4.387136  4.5476294]\n",
            "KNN Predictions: [4.58 4.46 4.8  4.56 4.3 ]\n",
            "SVR Predictions: [4.55638272 4.48300499 4.80011046 4.57106528 4.40958851]\n"
          ]
        }
      ]
    },
    {
      "cell_type": "markdown",
      "source": [
        "Evaluation Result\n",
        "\n",
        "---\n",
        "- SVR menunjukkan model terbaik dengan MAE sebesar 0.1286, MSE sebesar 0.0293, RMSE sebesar 0.1710, dan MAPE sebesar 2.9704%, yang menunjukkan bahwa model ini memiliki tingkat kesalahan prediksi yang paling rendah dibandingkan model lainnya.\n",
        "- Random Forest juga menunjukkan performa yang baik dengan MAE sebesar 0.1304, MSE sebesar 0.0288, RMSE sebesar 0.1697, dan MAPE sebesar 3.0006%. Meskipun sedikit tertinggal dari SVR, Random Forest masih menjadi salah satu model yang kompetitif dalam memberikan prediksi yang akurat."
      ],
      "metadata": {
        "id": "NCiR3xyxxvks"
      }
    },
    {
      "cell_type": "code",
      "source": [
        "def mean_absolute_percentage_error(y_true, y_pred):\n",
        "    return np.mean(np.abs((y_true - y_pred) / y_true)) * 100\n",
        "\n",
        "# Evaluate models\n",
        "performance = {}\n",
        "for name, y_pred in predictions.items():\n",
        "    performance[name] = {\n",
        "        \"MAE\": mean_absolute_error(y_test, y_pred),\n",
        "        \"MSE\": mean_squared_error(y_test, y_pred),\n",
        "        \"RMSE\": np.sqrt(mean_squared_error(y_test, y_pred)),\n",
        "        \"MAPE (%)\": mean_absolute_percentage_error(y_test, y_pred),\n",
        "        \"R² Score\": r2_score(y_test, y_pred)\n",
        "    }\n",
        "\n",
        "performance_df = pd.DataFrame(performance).T\n",
        "print(performance_df)"
      ],
      "metadata": {
        "colab": {
          "base_uri": "https://localhost:8080/"
        },
        "id": "TrPub30VDsQn",
        "outputId": "4bf0d3d1-44b0-4f05-dcc6-b6aed4ba082b"
      },
      "execution_count": 15,
      "outputs": [
        {
          "output_type": "stream",
          "name": "stdout",
          "text": [
            "                        MAE       MSE      RMSE  MAPE (%)  R² Score\n",
            "Linear Regression  0.132545  0.028663  0.169301  3.050197  0.300570\n",
            "Random Forest      0.130409  0.028793  0.169684  3.000633  0.297396\n",
            "XGBoost            0.146651  0.035537  0.188511  3.364958  0.132835\n",
            "KNN                0.134773  0.032268  0.179633  3.111091  0.212589\n",
            "SVR                0.128636  0.029252  0.171031  2.970400  0.286198\n"
          ]
        }
      ]
    },
    {
      "cell_type": "markdown",
      "source": [
        "Evaluation Result Precision@5\n",
        "\n",
        "---\n",
        "\n",
        "\n",
        "Linear Regression dan Random Forest memiliki nilai tertinggi, yaitu 0.8, yang berarti 80% dari 5 prediksi teratas yang dihasilkan oleh model tersebut sesuai dengan nilai sebenarnya."
      ],
      "metadata": {
        "id": "crs_EYO9zlxR"
      }
    },
    {
      "cell_type": "code",
      "source": [
        "def precision_at_k(y_true, y_pred, k=5):\n",
        "    top_k_indices = np.argsort(y_pred)[-k:]\n",
        "    relevant_items = np.argsort(y_true)[-k:]\n",
        "    precision = len(set(top_k_indices) & set(relevant_items)) / k\n",
        "    return precision\n",
        "\n",
        "# Compute Precision@5 for each model\n",
        "precision_scores = {name: precision_at_k(y_test, y_pred, k=5) for name, y_pred in predictions.items()}\n",
        "precision_df = pd.DataFrame.from_dict(precision_scores, orient=\"index\", columns=[\"Precision@5\"])\n",
        "print(precision_df)"
      ],
      "metadata": {
        "colab": {
          "base_uri": "https://localhost:8080/"
        },
        "id": "1ICOrm4sDuG_",
        "outputId": "ef69262c-0bbd-4fac-f872-f4da325e6093"
      },
      "execution_count": 16,
      "outputs": [
        {
          "output_type": "stream",
          "name": "stdout",
          "text": [
            "                   Precision@5\n",
            "Linear Regression          0.8\n",
            "Random Forest              0.8\n",
            "XGBoost                    0.6\n",
            "KNN                        0.6\n",
            "SVR                        0.6\n"
          ]
        }
      ]
    },
    {
      "cell_type": "markdown",
      "source": [
        "Conclusion\n",
        "\n",
        "---\n",
        "Random Forest merupakan model terbaik secara keseluruhan karena memiliki keseimbangan antara kesalahan prediksi yang rendah dan akurasi pemilihan rekomendasi yang lebih tinggi.\n",
        "Meskipun SVR memiliki kesalahan prediksi yang sedikit lebih rendah, Random Forest tetap unggul karena memiliki Precision@5 lebih tinggi yang penting dalam sistem rekomendasi.\n",
        "\n",
        "---\n",
        "\n"
      ],
      "metadata": {
        "id": "3Tp5HPGHz3Yz"
      }
    },
    {
      "cell_type": "markdown",
      "source": [
        "# ***Recomendation System***"
      ],
      "metadata": {
        "id": "s8EFZqoe44ZS"
      }
    },
    {
      "cell_type": "markdown",
      "source": [
        "Recomendation System Top 10 Tourist Destination\n",
        "\n",
        "---\n",
        "\n"
      ],
      "metadata": {
        "id": "wLZbnqb01RNk"
      }
    },
    {
      "cell_type": "code",
      "source": [
        "# Recommendation System\n",
        "def recommend_places(model, X_test, df_original, top_k=10):\n",
        "    y_pred = model.predict(X_test)\n",
        "    df_recommend = df_original.iloc[X_test.index].copy()\n",
        "    df_recommend[\"Predicted_Score\"] = y_pred\n",
        "    recommendations = df_recommend.sort_values(by=\"Predicted_Score\", ascending=False).head(top_k)\n",
        "    return recommendations[[\"Place_Name\", \"Category\", \"City\", \"Rating\", \"Predicted_Score\"]]\n",
        "\n",
        "#Recomendation Model\n",
        "top_recommendations = recommend_places(models[\"Random Forest\"], X_test, df)\n",
        "\n",
        "# Top 10 Recomendation Place\n",
        "from IPython.display import display\n",
        "display(top_recommendations)"
      ],
      "metadata": {
        "id": "j-vjH83PGIOM",
        "colab": {
          "base_uri": "https://localhost:8080/",
          "height": 398
        },
        "outputId": "01c4153c-5ffd-46c6-9259-8a00d3edc29a"
      },
      "execution_count": 17,
      "outputs": [
        {
          "output_type": "stream",
          "name": "stderr",
          "text": [
            "/usr/local/lib/python3.11/dist-packages/sklearn/utils/validation.py:2732: UserWarning: X has feature names, but RandomForestRegressor was fitted without feature names\n",
            "  warnings.warn(\n"
          ]
        },
        {
          "output_type": "display_data",
          "data": {
            "text/plain": [
              "                     Place_Name    Category        City  Rating  \\\n",
              "154             Pantai Ngobaran      Bahari  Yogyakarta     4.6   \n",
              "155         Pantai Pulang Sawal      Bahari  Yogyakarta     4.5   \n",
              "157          Pantai Pok Tunggal      Bahari  Yogyakarta     4.5   \n",
              "181  Hutan Mangrove Kulon Progo      Bahari  Yogyakarta     4.1   \n",
              "153       Pantai Ngrawe (Mesra)      Bahari  Yogyakarta     4.5   \n",
              "165          Kebun Teh Nglinggo  Cagar Alam  Yogyakarta     4.5   \n",
              "131     Air Terjun Kedung Pedut  Cagar Alam  Yogyakarta     4.5   \n",
              "55                 Pantai Ancol      Bahari     Jakarta     4.4   \n",
              "9                  Pulau Tidung      Bahari     Jakarta     4.5   \n",
              "342               Pantai Baruna      Bahari    Semarang     4.0   \n",
              "\n",
              "     Predicted_Score  \n",
              "154            4.528  \n",
              "155            4.528  \n",
              "157            4.528  \n",
              "181            4.528  \n",
              "153            4.528  \n",
              "165            4.523  \n",
              "131            4.523  \n",
              "55             4.521  \n",
              "9              4.521  \n",
              "342            4.519  "
            ],
            "text/html": [
              "\n",
              "  <div id=\"df-881a37cc-d2c8-4485-ab30-791aee7eaaa8\" class=\"colab-df-container\">\n",
              "    <div>\n",
              "<style scoped>\n",
              "    .dataframe tbody tr th:only-of-type {\n",
              "        vertical-align: middle;\n",
              "    }\n",
              "\n",
              "    .dataframe tbody tr th {\n",
              "        vertical-align: top;\n",
              "    }\n",
              "\n",
              "    .dataframe thead th {\n",
              "        text-align: right;\n",
              "    }\n",
              "</style>\n",
              "<table border=\"1\" class=\"dataframe\">\n",
              "  <thead>\n",
              "    <tr style=\"text-align: right;\">\n",
              "      <th></th>\n",
              "      <th>Place_Name</th>\n",
              "      <th>Category</th>\n",
              "      <th>City</th>\n",
              "      <th>Rating</th>\n",
              "      <th>Predicted_Score</th>\n",
              "    </tr>\n",
              "  </thead>\n",
              "  <tbody>\n",
              "    <tr>\n",
              "      <th>154</th>\n",
              "      <td>Pantai Ngobaran</td>\n",
              "      <td>Bahari</td>\n",
              "      <td>Yogyakarta</td>\n",
              "      <td>4.6</td>\n",
              "      <td>4.528</td>\n",
              "    </tr>\n",
              "    <tr>\n",
              "      <th>155</th>\n",
              "      <td>Pantai Pulang Sawal</td>\n",
              "      <td>Bahari</td>\n",
              "      <td>Yogyakarta</td>\n",
              "      <td>4.5</td>\n",
              "      <td>4.528</td>\n",
              "    </tr>\n",
              "    <tr>\n",
              "      <th>157</th>\n",
              "      <td>Pantai Pok Tunggal</td>\n",
              "      <td>Bahari</td>\n",
              "      <td>Yogyakarta</td>\n",
              "      <td>4.5</td>\n",
              "      <td>4.528</td>\n",
              "    </tr>\n",
              "    <tr>\n",
              "      <th>181</th>\n",
              "      <td>Hutan Mangrove Kulon Progo</td>\n",
              "      <td>Bahari</td>\n",
              "      <td>Yogyakarta</td>\n",
              "      <td>4.1</td>\n",
              "      <td>4.528</td>\n",
              "    </tr>\n",
              "    <tr>\n",
              "      <th>153</th>\n",
              "      <td>Pantai Ngrawe (Mesra)</td>\n",
              "      <td>Bahari</td>\n",
              "      <td>Yogyakarta</td>\n",
              "      <td>4.5</td>\n",
              "      <td>4.528</td>\n",
              "    </tr>\n",
              "    <tr>\n",
              "      <th>165</th>\n",
              "      <td>Kebun Teh Nglinggo</td>\n",
              "      <td>Cagar Alam</td>\n",
              "      <td>Yogyakarta</td>\n",
              "      <td>4.5</td>\n",
              "      <td>4.523</td>\n",
              "    </tr>\n",
              "    <tr>\n",
              "      <th>131</th>\n",
              "      <td>Air Terjun Kedung Pedut</td>\n",
              "      <td>Cagar Alam</td>\n",
              "      <td>Yogyakarta</td>\n",
              "      <td>4.5</td>\n",
              "      <td>4.523</td>\n",
              "    </tr>\n",
              "    <tr>\n",
              "      <th>55</th>\n",
              "      <td>Pantai Ancol</td>\n",
              "      <td>Bahari</td>\n",
              "      <td>Jakarta</td>\n",
              "      <td>4.4</td>\n",
              "      <td>4.521</td>\n",
              "    </tr>\n",
              "    <tr>\n",
              "      <th>9</th>\n",
              "      <td>Pulau Tidung</td>\n",
              "      <td>Bahari</td>\n",
              "      <td>Jakarta</td>\n",
              "      <td>4.5</td>\n",
              "      <td>4.521</td>\n",
              "    </tr>\n",
              "    <tr>\n",
              "      <th>342</th>\n",
              "      <td>Pantai Baruna</td>\n",
              "      <td>Bahari</td>\n",
              "      <td>Semarang</td>\n",
              "      <td>4.0</td>\n",
              "      <td>4.519</td>\n",
              "    </tr>\n",
              "  </tbody>\n",
              "</table>\n",
              "</div>\n",
              "    <div class=\"colab-df-buttons\">\n",
              "\n",
              "  <div class=\"colab-df-container\">\n",
              "    <button class=\"colab-df-convert\" onclick=\"convertToInteractive('df-881a37cc-d2c8-4485-ab30-791aee7eaaa8')\"\n",
              "            title=\"Convert this dataframe to an interactive table.\"\n",
              "            style=\"display:none;\">\n",
              "\n",
              "  <svg xmlns=\"http://www.w3.org/2000/svg\" height=\"24px\" viewBox=\"0 -960 960 960\">\n",
              "    <path d=\"M120-120v-720h720v720H120Zm60-500h600v-160H180v160Zm220 220h160v-160H400v160Zm0 220h160v-160H400v160ZM180-400h160v-160H180v160Zm440 0h160v-160H620v160ZM180-180h160v-160H180v160Zm440 0h160v-160H620v160Z\"/>\n",
              "  </svg>\n",
              "    </button>\n",
              "\n",
              "  <style>\n",
              "    .colab-df-container {\n",
              "      display:flex;\n",
              "      gap: 12px;\n",
              "    }\n",
              "\n",
              "    .colab-df-convert {\n",
              "      background-color: #E8F0FE;\n",
              "      border: none;\n",
              "      border-radius: 50%;\n",
              "      cursor: pointer;\n",
              "      display: none;\n",
              "      fill: #1967D2;\n",
              "      height: 32px;\n",
              "      padding: 0 0 0 0;\n",
              "      width: 32px;\n",
              "    }\n",
              "\n",
              "    .colab-df-convert:hover {\n",
              "      background-color: #E2EBFA;\n",
              "      box-shadow: 0px 1px 2px rgba(60, 64, 67, 0.3), 0px 1px 3px 1px rgba(60, 64, 67, 0.15);\n",
              "      fill: #174EA6;\n",
              "    }\n",
              "\n",
              "    .colab-df-buttons div {\n",
              "      margin-bottom: 4px;\n",
              "    }\n",
              "\n",
              "    [theme=dark] .colab-df-convert {\n",
              "      background-color: #3B4455;\n",
              "      fill: #D2E3FC;\n",
              "    }\n",
              "\n",
              "    [theme=dark] .colab-df-convert:hover {\n",
              "      background-color: #434B5C;\n",
              "      box-shadow: 0px 1px 3px 1px rgba(0, 0, 0, 0.15);\n",
              "      filter: drop-shadow(0px 1px 2px rgba(0, 0, 0, 0.3));\n",
              "      fill: #FFFFFF;\n",
              "    }\n",
              "  </style>\n",
              "\n",
              "    <script>\n",
              "      const buttonEl =\n",
              "        document.querySelector('#df-881a37cc-d2c8-4485-ab30-791aee7eaaa8 button.colab-df-convert');\n",
              "      buttonEl.style.display =\n",
              "        google.colab.kernel.accessAllowed ? 'block' : 'none';\n",
              "\n",
              "      async function convertToInteractive(key) {\n",
              "        const element = document.querySelector('#df-881a37cc-d2c8-4485-ab30-791aee7eaaa8');\n",
              "        const dataTable =\n",
              "          await google.colab.kernel.invokeFunction('convertToInteractive',\n",
              "                                                    [key], {});\n",
              "        if (!dataTable) return;\n",
              "\n",
              "        const docLinkHtml = 'Like what you see? Visit the ' +\n",
              "          '<a target=\"_blank\" href=https://colab.research.google.com/notebooks/data_table.ipynb>data table notebook</a>'\n",
              "          + ' to learn more about interactive tables.';\n",
              "        element.innerHTML = '';\n",
              "        dataTable['output_type'] = 'display_data';\n",
              "        await google.colab.output.renderOutput(dataTable, element);\n",
              "        const docLink = document.createElement('div');\n",
              "        docLink.innerHTML = docLinkHtml;\n",
              "        element.appendChild(docLink);\n",
              "      }\n",
              "    </script>\n",
              "  </div>\n",
              "\n",
              "\n",
              "<div id=\"df-6e670af6-e3c0-4e50-a909-c9e5397a4ef1\">\n",
              "  <button class=\"colab-df-quickchart\" onclick=\"quickchart('df-6e670af6-e3c0-4e50-a909-c9e5397a4ef1')\"\n",
              "            title=\"Suggest charts\"\n",
              "            style=\"display:none;\">\n",
              "\n",
              "<svg xmlns=\"http://www.w3.org/2000/svg\" height=\"24px\"viewBox=\"0 0 24 24\"\n",
              "     width=\"24px\">\n",
              "    <g>\n",
              "        <path d=\"M19 3H5c-1.1 0-2 .9-2 2v14c0 1.1.9 2 2 2h14c1.1 0 2-.9 2-2V5c0-1.1-.9-2-2-2zM9 17H7v-7h2v7zm4 0h-2V7h2v10zm4 0h-2v-4h2v4z\"/>\n",
              "    </g>\n",
              "</svg>\n",
              "  </button>\n",
              "\n",
              "<style>\n",
              "  .colab-df-quickchart {\n",
              "      --bg-color: #E8F0FE;\n",
              "      --fill-color: #1967D2;\n",
              "      --hover-bg-color: #E2EBFA;\n",
              "      --hover-fill-color: #174EA6;\n",
              "      --disabled-fill-color: #AAA;\n",
              "      --disabled-bg-color: #DDD;\n",
              "  }\n",
              "\n",
              "  [theme=dark] .colab-df-quickchart {\n",
              "      --bg-color: #3B4455;\n",
              "      --fill-color: #D2E3FC;\n",
              "      --hover-bg-color: #434B5C;\n",
              "      --hover-fill-color: #FFFFFF;\n",
              "      --disabled-bg-color: #3B4455;\n",
              "      --disabled-fill-color: #666;\n",
              "  }\n",
              "\n",
              "  .colab-df-quickchart {\n",
              "    background-color: var(--bg-color);\n",
              "    border: none;\n",
              "    border-radius: 50%;\n",
              "    cursor: pointer;\n",
              "    display: none;\n",
              "    fill: var(--fill-color);\n",
              "    height: 32px;\n",
              "    padding: 0;\n",
              "    width: 32px;\n",
              "  }\n",
              "\n",
              "  .colab-df-quickchart:hover {\n",
              "    background-color: var(--hover-bg-color);\n",
              "    box-shadow: 0 1px 2px rgba(60, 64, 67, 0.3), 0 1px 3px 1px rgba(60, 64, 67, 0.15);\n",
              "    fill: var(--button-hover-fill-color);\n",
              "  }\n",
              "\n",
              "  .colab-df-quickchart-complete:disabled,\n",
              "  .colab-df-quickchart-complete:disabled:hover {\n",
              "    background-color: var(--disabled-bg-color);\n",
              "    fill: var(--disabled-fill-color);\n",
              "    box-shadow: none;\n",
              "  }\n",
              "\n",
              "  .colab-df-spinner {\n",
              "    border: 2px solid var(--fill-color);\n",
              "    border-color: transparent;\n",
              "    border-bottom-color: var(--fill-color);\n",
              "    animation:\n",
              "      spin 1s steps(1) infinite;\n",
              "  }\n",
              "\n",
              "  @keyframes spin {\n",
              "    0% {\n",
              "      border-color: transparent;\n",
              "      border-bottom-color: var(--fill-color);\n",
              "      border-left-color: var(--fill-color);\n",
              "    }\n",
              "    20% {\n",
              "      border-color: transparent;\n",
              "      border-left-color: var(--fill-color);\n",
              "      border-top-color: var(--fill-color);\n",
              "    }\n",
              "    30% {\n",
              "      border-color: transparent;\n",
              "      border-left-color: var(--fill-color);\n",
              "      border-top-color: var(--fill-color);\n",
              "      border-right-color: var(--fill-color);\n",
              "    }\n",
              "    40% {\n",
              "      border-color: transparent;\n",
              "      border-right-color: var(--fill-color);\n",
              "      border-top-color: var(--fill-color);\n",
              "    }\n",
              "    60% {\n",
              "      border-color: transparent;\n",
              "      border-right-color: var(--fill-color);\n",
              "    }\n",
              "    80% {\n",
              "      border-color: transparent;\n",
              "      border-right-color: var(--fill-color);\n",
              "      border-bottom-color: var(--fill-color);\n",
              "    }\n",
              "    90% {\n",
              "      border-color: transparent;\n",
              "      border-bottom-color: var(--fill-color);\n",
              "    }\n",
              "  }\n",
              "</style>\n",
              "\n",
              "  <script>\n",
              "    async function quickchart(key) {\n",
              "      const quickchartButtonEl =\n",
              "        document.querySelector('#' + key + ' button');\n",
              "      quickchartButtonEl.disabled = true;  // To prevent multiple clicks.\n",
              "      quickchartButtonEl.classList.add('colab-df-spinner');\n",
              "      try {\n",
              "        const charts = await google.colab.kernel.invokeFunction(\n",
              "            'suggestCharts', [key], {});\n",
              "      } catch (error) {\n",
              "        console.error('Error during call to suggestCharts:', error);\n",
              "      }\n",
              "      quickchartButtonEl.classList.remove('colab-df-spinner');\n",
              "      quickchartButtonEl.classList.add('colab-df-quickchart-complete');\n",
              "    }\n",
              "    (() => {\n",
              "      let quickchartButtonEl =\n",
              "        document.querySelector('#df-6e670af6-e3c0-4e50-a909-c9e5397a4ef1 button');\n",
              "      quickchartButtonEl.style.display =\n",
              "        google.colab.kernel.accessAllowed ? 'block' : 'none';\n",
              "    })();\n",
              "  </script>\n",
              "</div>\n",
              "\n",
              "  <div id=\"id_f04c35a6-f767-482a-95a3-663ae190576f\">\n",
              "    <style>\n",
              "      .colab-df-generate {\n",
              "        background-color: #E8F0FE;\n",
              "        border: none;\n",
              "        border-radius: 50%;\n",
              "        cursor: pointer;\n",
              "        display: none;\n",
              "        fill: #1967D2;\n",
              "        height: 32px;\n",
              "        padding: 0 0 0 0;\n",
              "        width: 32px;\n",
              "      }\n",
              "\n",
              "      .colab-df-generate:hover {\n",
              "        background-color: #E2EBFA;\n",
              "        box-shadow: 0px 1px 2px rgba(60, 64, 67, 0.3), 0px 1px 3px 1px rgba(60, 64, 67, 0.15);\n",
              "        fill: #174EA6;\n",
              "      }\n",
              "\n",
              "      [theme=dark] .colab-df-generate {\n",
              "        background-color: #3B4455;\n",
              "        fill: #D2E3FC;\n",
              "      }\n",
              "\n",
              "      [theme=dark] .colab-df-generate:hover {\n",
              "        background-color: #434B5C;\n",
              "        box-shadow: 0px 1px 3px 1px rgba(0, 0, 0, 0.15);\n",
              "        filter: drop-shadow(0px 1px 2px rgba(0, 0, 0, 0.3));\n",
              "        fill: #FFFFFF;\n",
              "      }\n",
              "    </style>\n",
              "    <button class=\"colab-df-generate\" onclick=\"generateWithVariable('top_recommendations')\"\n",
              "            title=\"Generate code using this dataframe.\"\n",
              "            style=\"display:none;\">\n",
              "\n",
              "  <svg xmlns=\"http://www.w3.org/2000/svg\" height=\"24px\"viewBox=\"0 0 24 24\"\n",
              "       width=\"24px\">\n",
              "    <path d=\"M7,19H8.4L18.45,9,17,7.55,7,17.6ZM5,21V16.75L18.45,3.32a2,2,0,0,1,2.83,0l1.4,1.43a1.91,1.91,0,0,1,.58,1.4,1.91,1.91,0,0,1-.58,1.4L9.25,21ZM18.45,9,17,7.55Zm-12,3A5.31,5.31,0,0,0,4.9,8.1,5.31,5.31,0,0,0,1,6.5,5.31,5.31,0,0,0,4.9,4.9,5.31,5.31,0,0,0,6.5,1,5.31,5.31,0,0,0,8.1,4.9,5.31,5.31,0,0,0,12,6.5,5.46,5.46,0,0,0,6.5,12Z\"/>\n",
              "  </svg>\n",
              "    </button>\n",
              "    <script>\n",
              "      (() => {\n",
              "      const buttonEl =\n",
              "        document.querySelector('#id_f04c35a6-f767-482a-95a3-663ae190576f button.colab-df-generate');\n",
              "      buttonEl.style.display =\n",
              "        google.colab.kernel.accessAllowed ? 'block' : 'none';\n",
              "\n",
              "      buttonEl.onclick = () => {\n",
              "        google.colab.notebook.generateWithVariable('top_recommendations');\n",
              "      }\n",
              "      })();\n",
              "    </script>\n",
              "  </div>\n",
              "\n",
              "    </div>\n",
              "  </div>\n"
            ],
            "application/vnd.google.colaboratory.intrinsic+json": {
              "type": "dataframe",
              "variable_name": "top_recommendations",
              "summary": "{\n  \"name\": \"top_recommendations\",\n  \"rows\": 10,\n  \"fields\": [\n    {\n      \"column\": \"Place_Name\",\n      \"properties\": {\n        \"dtype\": \"string\",\n        \"num_unique_values\": 10,\n        \"samples\": [\n          \"Pulau Tidung\",\n          \"Pantai Pulang Sawal\",\n          \"Kebun Teh Nglinggo\"\n        ],\n        \"semantic_type\": \"\",\n        \"description\": \"\"\n      }\n    },\n    {\n      \"column\": \"Category\",\n      \"properties\": {\n        \"dtype\": \"category\",\n        \"num_unique_values\": 2,\n        \"samples\": [\n          \"Cagar Alam\",\n          \"Bahari\"\n        ],\n        \"semantic_type\": \"\",\n        \"description\": \"\"\n      }\n    },\n    {\n      \"column\": \"City\",\n      \"properties\": {\n        \"dtype\": \"category\",\n        \"num_unique_values\": 3,\n        \"samples\": [\n          \"Yogyakarta\",\n          \"Jakarta\"\n        ],\n        \"semantic_type\": \"\",\n        \"description\": \"\"\n      }\n    },\n    {\n      \"column\": \"Rating\",\n      \"properties\": {\n        \"dtype\": \"number\",\n        \"std\": 0.19692073983655908,\n        \"min\": 4.0,\n        \"max\": 4.6,\n        \"num_unique_values\": 5,\n        \"samples\": [\n          4.5,\n          4.0\n        ],\n        \"semantic_type\": \"\",\n        \"description\": \"\"\n      }\n    },\n    {\n      \"column\": \"Predicted_Score\",\n      \"properties\": {\n        \"dtype\": \"number\",\n        \"std\": 0.0036530048514124827,\n        \"min\": 4.519000000000003,\n        \"max\": 4.528000000000002,\n        \"num_unique_values\": 4,\n        \"samples\": [\n          4.523000000000002,\n          4.519000000000003\n        ],\n        \"semantic_type\": \"\",\n        \"description\": \"\"\n      }\n    }\n  ]\n}"
            }
          },
          "metadata": {}
        }
      ]
    },
    {
      "cell_type": "markdown",
      "source": [
        "City & Category List\n",
        "\n",
        "---\n",
        "\n"
      ],
      "metadata": {
        "id": "pUswtItX10oF"
      }
    },
    {
      "cell_type": "code",
      "source": [
        "# City List\n",
        "def list_cities():\n",
        "    cities = df[\"City\"].unique()\n",
        "    print(\"City List:\")\n",
        "    for city in cities:\n",
        "        print(\"-\", city)\n",
        "\n",
        "# Category List\n",
        "def list_categories():\n",
        "    categories = df[\"Category\"].unique()\n",
        "    print(\"Category List:\")\n",
        "    for category in categories:\n",
        "        print(\"-\", category)"
      ],
      "metadata": {
        "id": "qJWG5uh4P6jO"
      },
      "execution_count": 18,
      "outputs": []
    },
    {
      "cell_type": "code",
      "source": [
        "from tabulate import tabulate\n",
        "\n",
        "def list_city_category(df):\n",
        "    unique_cities = pd.DataFrame({\"City\": df[\"City\"].unique()})\n",
        "    unique_categories = pd.DataFrame({\"Category\": df[\"Category\"].unique()})\n",
        "\n",
        "    # Merge the two DataFrames\n",
        "    merged_table = pd.concat([unique_cities, unique_categories], axis=1).fillna(\"\")\n",
        "\n",
        "    # Print the table with columns aligned to the center\n",
        "    print(tabulate(merged_table, headers=\"keys\", tablefmt=\"fancy_grid\", showindex=False, colalign=[\"center\", \"center\"]))\n",
        "\n",
        "# Menampilkan daftar kota dan kategori\n",
        "list_city_category(df)\n"
      ],
      "metadata": {
        "colab": {
          "base_uri": "https://localhost:8080/"
        },
        "id": "CXf6H2Raqrfq",
        "outputId": "5861a1ae-7983-4138-d20c-0841122c9a00"
      },
      "execution_count": 19,
      "outputs": [
        {
          "output_type": "stream",
          "name": "stdout",
          "text": [
            "╒════════════╤════════════════════╕\n",
            "│    City    │      Category      │\n",
            "╞════════════╪════════════════════╡\n",
            "│  Jakarta   │       Budaya       │\n",
            "├────────────┼────────────────────┤\n",
            "│ Yogyakarta │   Taman Hiburan    │\n",
            "├────────────┼────────────────────┤\n",
            "│  Bandung   │     Cagar Alam     │\n",
            "├────────────┼────────────────────┤\n",
            "│  Semarang  │       Bahari       │\n",
            "├────────────┼────────────────────┤\n",
            "│  Surabaya  │ Pusat Perbelanjaan │\n",
            "├────────────┼────────────────────┤\n",
            "│            │   Tempat Ibadah    │\n",
            "╘════════════╧════════════════════╛\n"
          ]
        }
      ]
    },
    {
      "cell_type": "markdown",
      "source": [
        "Recomendation System Top 10 City and Category\n",
        "\n",
        "---\n",
        "\n"
      ],
      "metadata": {
        "id": "O--7_rw02DtE"
      }
    },
    {
      "cell_type": "code",
      "source": [
        "# Recommendation System with City and Category Filter\n",
        "def recommend_places(model, X_test, df_original, top_k=10, city_filter=None, category_filter=None):\n",
        "    y_pred = model.predict(X_test)\n",
        "    df_recommend = df_original.iloc[X_test.index].copy()\n",
        "    df_recommend[\"Predicted_Score\"] = y_pred\n",
        "\n",
        "    # Apply filters\n",
        "    if city_filter:\n",
        "        df_recommend = df_recommend[df_recommend[\"City\"].isin(city_filter)]\n",
        "    if category_filter:\n",
        "        df_recommend = df_recommend[df_recommend[\"Category\"].isin(category_filter)]\n",
        "\n",
        "    recommendations = df_recommend.sort_values(by=\"Predicted_Score\", ascending=False).head(top_k)\n",
        "    return recommendations[[\"Place_Name\", \"Category\", \"City\", \"Rating\", \"Predicted_Score\"]]\n",
        "\n",
        "# Function to display city recommendations\n",
        "def display_city_recommendations(city_name):\n",
        "    city_recommendations = recommend_places(models[\"Random Forest\"], X_test, df, top_k=10, city_filter=[city_name])\n",
        "    print(city_recommendations)\n",
        "\n",
        "# Function to display category recommendations\n",
        "def display_category_recommendations(category_name):\n",
        "    category_recommendations = recommend_places(models[\"Random Forest\"], X_test, df, top_k=10, category_filter=[category_name])\n",
        "    print(category_recommendations)"
      ],
      "metadata": {
        "id": "TTlJoqJsSEpl"
      },
      "execution_count": 20,
      "outputs": []
    },
    {
      "cell_type": "markdown",
      "source": [
        "# Recomendation System Top 10 Based on City\n",
        "\n",
        "---\n",
        "\n"
      ],
      "metadata": {
        "id": "oFWJkCjx2SjN"
      }
    },
    {
      "cell_type": "markdown",
      "source": [
        "City List\n",
        "\n",
        "---\n",
        "\n"
      ],
      "metadata": {
        "id": "VMf0huvL2Orf"
      }
    },
    {
      "cell_type": "code",
      "source": [
        "list_cities()"
      ],
      "metadata": {
        "id": "mIDyHQ3BQLyr",
        "colab": {
          "base_uri": "https://localhost:8080/"
        },
        "outputId": "3c4a56f8-133d-4c3f-c926-f2d1622193d2"
      },
      "execution_count": 21,
      "outputs": [
        {
          "output_type": "stream",
          "name": "stdout",
          "text": [
            "City List:\n",
            "- Jakarta\n",
            "- Yogyakarta\n",
            "- Bandung\n",
            "- Semarang\n",
            "- Surabaya\n"
          ]
        }
      ]
    },
    {
      "cell_type": "markdown",
      "source": [
        "# Jakarta"
      ],
      "metadata": {
        "id": "8RnaZXCXzW90"
      }
    },
    {
      "cell_type": "code",
      "source": [
        "display_city_recommendations(\"Jakarta\")"
      ],
      "metadata": {
        "id": "vtQfs71hSU07",
        "colab": {
          "base_uri": "https://localhost:8080/"
        },
        "outputId": "c6c72123-00d6-4465-c8af-85bd8a7e7809"
      },
      "execution_count": 22,
      "outputs": [
        {
          "output_type": "stream",
          "name": "stdout",
          "text": [
            "                         Place_Name       Category     City  Rating  \\\n",
            "55                     Pantai Ancol         Bahari  Jakarta     4.4   \n",
            "9                      Pulau Tidung         Bahari  Jakarta     4.5   \n",
            "66           Margasatwa Muara Angke     Cagar Alam  Jakarta     4.2   \n",
            "70  Cibubur Garden Diary (Cibugary)     Cagar Alam  Jakarta     4.5   \n",
            "30       Wisata Alam Mangrove Angke     Cagar Alam  Jakarta     4.3   \n",
            "42                  The Escape Hunt  Taman Hiburan  Jakarta     4.4   \n",
            "82               Alive Museum Ancol  Taman Hiburan  Jakarta     4.3   \n",
            "77             Hutan Kota Srengseng  Taman Hiburan  Jakarta     4.3   \n",
            "75                   Taman Cattleya  Taman Hiburan  Jakarta     4.5   \n",
            "17            Museum Bank Indonesia         Budaya  Jakarta     4.7   \n",
            "\n",
            "    Predicted_Score  \n",
            "55            4.521  \n",
            "9             4.521  \n",
            "66            4.518  \n",
            "70            4.518  \n",
            "30            4.518  \n",
            "42            4.510  \n",
            "82            4.510  \n",
            "77            4.510  \n",
            "75            4.510  \n",
            "17            4.502  \n"
          ]
        },
        {
          "output_type": "stream",
          "name": "stderr",
          "text": [
            "/usr/local/lib/python3.11/dist-packages/sklearn/utils/validation.py:2732: UserWarning: X has feature names, but RandomForestRegressor was fitted without feature names\n",
            "  warnings.warn(\n"
          ]
        }
      ]
    },
    {
      "cell_type": "markdown",
      "source": [
        "# Yogyakarta\n"
      ],
      "metadata": {
        "id": "CNdwA0jyzbVJ"
      }
    },
    {
      "cell_type": "code",
      "source": [
        "display_city_recommendations(\"Yogyakarta\")"
      ],
      "metadata": {
        "colab": {
          "base_uri": "https://localhost:8080/"
        },
        "id": "vO9PF6W5zeKD",
        "outputId": "6cdc3840-c042-43f4-ef9e-37033d08ebbb"
      },
      "execution_count": 23,
      "outputs": [
        {
          "output_type": "stream",
          "name": "stdout",
          "text": [
            "                     Place_Name       Category        City  Rating  \\\n",
            "155         Pantai Pulang Sawal         Bahari  Yogyakarta     4.5   \n",
            "181  Hutan Mangrove Kulon Progo         Bahari  Yogyakarta     4.1   \n",
            "157          Pantai Pok Tunggal         Bahari  Yogyakarta     4.5   \n",
            "154             Pantai Ngobaran         Bahari  Yogyakarta     4.6   \n",
            "153       Pantai Ngrawe (Mesra)         Bahari  Yogyakarta     4.5   \n",
            "131     Air Terjun Kedung Pedut     Cagar Alam  Yogyakarta     4.5   \n",
            "165          Kebun Teh Nglinggo     Cagar Alam  Yogyakarta     4.5   \n",
            "132  Puncak Kebun Buah Mangunan  Taman Hiburan  Yogyakarta     4.6   \n",
            "126           Blue Lagoon Jogja  Taman Hiburan  Yogyakarta     4.3   \n",
            "93               Sumur Gumuling  Taman Hiburan  Yogyakarta     4.5   \n",
            "\n",
            "     Predicted_Score  \n",
            "155            4.528  \n",
            "181            4.528  \n",
            "157            4.528  \n",
            "154            4.528  \n",
            "153            4.528  \n",
            "131            4.523  \n",
            "165            4.523  \n",
            "132            4.517  \n",
            "126            4.517  \n",
            "93             4.517  \n"
          ]
        },
        {
          "output_type": "stream",
          "name": "stderr",
          "text": [
            "/usr/local/lib/python3.11/dist-packages/sklearn/utils/validation.py:2732: UserWarning: X has feature names, but RandomForestRegressor was fitted without feature names\n",
            "  warnings.warn(\n"
          ]
        }
      ]
    },
    {
      "cell_type": "markdown",
      "source": [
        "# Bandung"
      ],
      "metadata": {
        "id": "yI3XhoqmzdsK"
      }
    },
    {
      "cell_type": "code",
      "source": [
        "display_city_recommendations(\"Bandung\")"
      ],
      "metadata": {
        "colab": {
          "base_uri": "https://localhost:8080/"
        },
        "id": "ImAkvx3LznPR",
        "outputId": "f4216ea0-3570-42d4-9bd2-eac868ef5463"
      },
      "execution_count": 24,
      "outputs": [
        {
          "output_type": "stream",
          "name": "stdout",
          "text": [
            "                         Place_Name       Category     City  Rating  \\\n",
            "245           Curug Tilu Leuwi Opat     Cagar Alam  Bandung     4.4   \n",
            "325      Taman Kupu-Kupu Cihanjuang     Cagar Alam  Bandung     4.0   \n",
            "218                  Tebing Karaton     Cagar Alam  Bandung     4.5   \n",
            "307      Pemandian Air Panas Ciater     Cagar Alam  Bandung     4.3   \n",
            "304             Sunrise Point Cukul     Cagar Alam  Bandung     4.6   \n",
            "234                     Gua Belanda     Cagar Alam  Bandung     4.4   \n",
            "305               Sungai Palayangan     Cagar Alam  Bandung     4.6   \n",
            "311  Taman Hutan Raya Ir. H. Juanda     Cagar Alam  Bandung     4.5   \n",
            "290        Water Park Bandung Indah  Taman Hiburan  Bandung     4.0   \n",
            "225                 Kawasan Punclut  Taman Hiburan  Bandung     4.4   \n",
            "\n",
            "     Predicted_Score  \n",
            "245            4.516  \n",
            "325            4.516  \n",
            "218            4.516  \n",
            "307            4.516  \n",
            "304            4.516  \n",
            "234            4.516  \n",
            "305            4.516  \n",
            "311            4.516  \n",
            "290            4.508  \n",
            "225            4.508  \n"
          ]
        },
        {
          "output_type": "stream",
          "name": "stderr",
          "text": [
            "/usr/local/lib/python3.11/dist-packages/sklearn/utils/validation.py:2732: UserWarning: X has feature names, but RandomForestRegressor was fitted without feature names\n",
            "  warnings.warn(\n"
          ]
        }
      ]
    },
    {
      "cell_type": "markdown",
      "source": [
        "# Semarang"
      ],
      "metadata": {
        "id": "a3EYzbNmzu2q"
      }
    },
    {
      "cell_type": "code",
      "source": [
        "display_city_recommendations(\"Semarang\")"
      ],
      "metadata": {
        "colab": {
          "base_uri": "https://localhost:8080/"
        },
        "id": "MU9j4eNSznAe",
        "outputId": "0fed6713-6a1d-47a6-b098-8dea3835e094"
      },
      "execution_count": 25,
      "outputs": [
        {
          "output_type": "stream",
          "name": "stdout",
          "text": [
            "                          Place_Name       Category      City  Rating  \\\n",
            "342                    Pantai Baruna         Bahari  Semarang     4.0   \n",
            "387              Watu Gunung Ungaran     Cagar Alam  Semarang     4.4   \n",
            "340  Hutan Wisata Tinjomoyo Semarang     Cagar Alam  Semarang     4.3   \n",
            "370              Wisata Eling Bening     Cagar Alam  Semarang     4.3   \n",
            "360     Wisata Kampung Krisan Clapar  Taman Hiburan  Semarang     4.1   \n",
            "369                   Benteng Pendem         Budaya  Semarang     4.2   \n",
            "375               Semarang Chinatown         Budaya  Semarang     4.5   \n",
            "347                  Pura Giri Natha         Budaya  Semarang     4.7   \n",
            "382                    Taman Tabanas  Taman Hiburan  Semarang     4.4   \n",
            "384    Kampung Batik Gedong Semarang         Budaya  Semarang     4.4   \n",
            "\n",
            "     Predicted_Score  \n",
            "342            4.519  \n",
            "387            4.516  \n",
            "340            4.516  \n",
            "370            4.516  \n",
            "360            4.508  \n",
            "369            4.502  \n",
            "375            4.502  \n",
            "347            4.502  \n",
            "382            4.464  \n",
            "384            4.457  \n"
          ]
        },
        {
          "output_type": "stream",
          "name": "stderr",
          "text": [
            "/usr/local/lib/python3.11/dist-packages/sklearn/utils/validation.py:2732: UserWarning: X has feature names, but RandomForestRegressor was fitted without feature names\n",
            "  warnings.warn(\n"
          ]
        }
      ]
    },
    {
      "cell_type": "markdown",
      "source": [
        "# Surabaya"
      ],
      "metadata": {
        "id": "_vnXJEAIzwSi"
      }
    },
    {
      "cell_type": "code",
      "source": [
        "display_city_recommendations(\"Surabaya\")"
      ],
      "metadata": {
        "colab": {
          "base_uri": "https://localhost:8080/"
        },
        "id": "0vP5Iq2czmvb",
        "outputId": "1d89cc8b-ca61-4c07-f0ee-74ff8722f9e4"
      },
      "execution_count": 26,
      "outputs": [
        {
          "output_type": "stream",
          "name": "stderr",
          "text": [
            "/usr/local/lib/python3.11/dist-packages/sklearn/utils/validation.py:2732: UserWarning: X has feature names, but RandomForestRegressor was fitted without feature names\n",
            "  warnings.warn(\n"
          ]
        },
        {
          "output_type": "stream",
          "name": "stdout",
          "text": [
            "                                Place_Name       Category      City  Rating  \\\n",
            "423                    Pantai Ria Kenjeran         Bahari  Surabaya     4.2   \n",
            "404                    Surabaya North Quay  Taman Hiburan  Surabaya     4.4   \n",
            "424            Waterpark Kenjeran Surabaya  Taman Hiburan  Surabaya     4.1   \n",
            "395                    Monumen Kapal Selam         Budaya  Surabaya     4.4   \n",
            "432                    Museum Mpu Tantular         Budaya  Surabaya     4.4   \n",
            "417  Museum Sepuluh Nopember Kota Surabaya         Budaya  Surabaya     4.7   \n",
            "411               Masjid Nasional Al-Akbar  Tempat Ibadah  Surabaya     4.9   \n",
            "410              Masjid Muhammad Cheng Hoo  Tempat Ibadah  Surabaya     4.7   \n",
            "402                       Taman Barunawati  Taman Hiburan  Surabaya     4.2   \n",
            "394                         Taman Prestasi  Taman Hiburan  Surabaya     4.6   \n",
            "\n",
            "     Predicted_Score  \n",
            "423            4.519  \n",
            "404            4.508  \n",
            "424            4.508  \n",
            "395            4.502  \n",
            "432            4.502  \n",
            "417            4.502  \n",
            "411            4.478  \n",
            "410            4.478  \n",
            "402            4.464  \n",
            "394            4.464  \n"
          ]
        }
      ]
    },
    {
      "cell_type": "markdown",
      "source": [
        "# Recomendation System Top 10 Based on Category\n"
      ],
      "metadata": {
        "id": "lzL0vRvU0KeR"
      }
    },
    {
      "cell_type": "markdown",
      "source": [
        "Category List\n",
        "\n",
        "---\n",
        "\n"
      ],
      "metadata": {
        "id": "Sj92hR3421zE"
      }
    },
    {
      "cell_type": "code",
      "source": [
        "list_categories()"
      ],
      "metadata": {
        "id": "v9hylNPxQ0d3",
        "colab": {
          "base_uri": "https://localhost:8080/"
        },
        "outputId": "4edf3d0f-7e13-49a3-ef0b-353a1a8a2360"
      },
      "execution_count": 27,
      "outputs": [
        {
          "output_type": "stream",
          "name": "stdout",
          "text": [
            "Category List:\n",
            "- Budaya\n",
            "- Taman Hiburan\n",
            "- Cagar Alam\n",
            "- Bahari\n",
            "- Pusat Perbelanjaan\n",
            "- Tempat Ibadah\n"
          ]
        }
      ]
    },
    {
      "cell_type": "markdown",
      "source": [
        "# Budaya"
      ],
      "metadata": {
        "id": "esniankZ0GkH"
      }
    },
    {
      "cell_type": "code",
      "source": [
        "display_category_recommendations(\"Budaya\")"
      ],
      "metadata": {
        "id": "e2NjIv86SVxq",
        "colab": {
          "base_uri": "https://localhost:8080/"
        },
        "outputId": "c58c4a6c-ecba-4258-96d3-8a8d3fcd95f8"
      },
      "execution_count": 28,
      "outputs": [
        {
          "output_type": "stream",
          "name": "stdout",
          "text": [
            "                                Place_Name Category      City  Rating  \\\n",
            "395                    Monumen Kapal Selam   Budaya  Surabaya     4.4   \n",
            "375                     Semarang Chinatown   Budaya  Semarang     4.5   \n",
            "417  Museum Sepuluh Nopember Kota Surabaya   Budaya  Surabaya     4.7   \n",
            "220                 Museum Geologi Bandung   Budaya   Bandung     4.6   \n",
            "19                   Museum Taman Prasasti   Budaya   Jakarta     4.5   \n",
            "0                         Monumen Nasional   Budaya   Jakarta     4.6   \n",
            "347                        Pura Giri Natha   Budaya  Semarang     4.7   \n",
            "289             Museum Pendidikan Nasional   Budaya   Bandung     4.6   \n",
            "72                         Museum Perangko   Budaya   Jakarta     4.4   \n",
            "17                   Museum Bank Indonesia   Budaya   Jakarta     4.7   \n",
            "\n",
            "     Predicted_Score  \n",
            "395            4.502  \n",
            "375            4.502  \n",
            "417            4.502  \n",
            "220            4.502  \n",
            "19             4.502  \n",
            "0              4.502  \n",
            "347            4.502  \n",
            "289            4.502  \n",
            "72             4.502  \n",
            "17             4.502  \n"
          ]
        },
        {
          "output_type": "stream",
          "name": "stderr",
          "text": [
            "/usr/local/lib/python3.11/dist-packages/sklearn/utils/validation.py:2732: UserWarning: X has feature names, but RandomForestRegressor was fitted without feature names\n",
            "  warnings.warn(\n"
          ]
        }
      ]
    },
    {
      "cell_type": "markdown",
      "source": [
        "# Taman Hiburan"
      ],
      "metadata": {
        "id": "o010jN6K1O9w"
      }
    },
    {
      "cell_type": "code",
      "source": [
        "display_category_recommendations(\"Taman Hiburan\")"
      ],
      "metadata": {
        "colab": {
          "base_uri": "https://localhost:8080/"
        },
        "id": "W6mm_Vaz0-J_",
        "outputId": "ee79a6c3-92e6-4029-e23a-9dd396db8846"
      },
      "execution_count": 29,
      "outputs": [
        {
          "output_type": "stream",
          "name": "stderr",
          "text": [
            "/usr/local/lib/python3.11/dist-packages/sklearn/utils/validation.py:2732: UserWarning: X has feature names, but RandomForestRegressor was fitted without feature names\n",
            "  warnings.warn(\n"
          ]
        },
        {
          "output_type": "stream",
          "name": "stdout",
          "text": [
            "                                       Place_Name       Category        City  \\\n",
            "137                               Jogja Exotarium  Taman Hiburan  Yogyakarta   \n",
            "116  The World Landmarks - Merapi Park Yogyakarta  Taman Hiburan  Yogyakarta   \n",
            "126                             Blue Lagoon Jogja  Taman Hiburan  Yogyakarta   \n",
            "113                         The Lost World Castle  Taman Hiburan  Yogyakarta   \n",
            "132                    Puncak Kebun Buah Mangunan  Taman Hiburan  Yogyakarta   \n",
            "93                                 Sumur Gumuling  Taman Hiburan  Yogyakarta   \n",
            "75                                 Taman Cattleya  Taman Hiburan     Jakarta   \n",
            "77                           Hutan Kota Srengseng  Taman Hiburan     Jakarta   \n",
            "82                             Alive Museum Ancol  Taman Hiburan     Jakarta   \n",
            "42                                The Escape Hunt  Taman Hiburan     Jakarta   \n",
            "\n",
            "     Rating  Predicted_Score  \n",
            "137     4.4            4.517  \n",
            "116     4.2            4.517  \n",
            "126     4.3            4.517  \n",
            "113     4.3            4.517  \n",
            "132     4.6            4.517  \n",
            "93      4.5            4.517  \n",
            "75      4.5            4.510  \n",
            "77      4.3            4.510  \n",
            "82      4.3            4.510  \n",
            "42      4.4            4.510  \n"
          ]
        }
      ]
    },
    {
      "cell_type": "markdown",
      "source": [
        "# Cagar Alam"
      ],
      "metadata": {
        "id": "IXsCRZR31PXo"
      }
    },
    {
      "cell_type": "code",
      "source": [
        "display_category_recommendations(\"Cagar Alam\")"
      ],
      "metadata": {
        "colab": {
          "base_uri": "https://localhost:8080/"
        },
        "id": "ZG94njxT08R9",
        "outputId": "b565a20f-991d-4038-9a1b-6021940edff5"
      },
      "execution_count": 30,
      "outputs": [
        {
          "output_type": "stream",
          "name": "stderr",
          "text": [
            "/usr/local/lib/python3.11/dist-packages/sklearn/utils/validation.py:2732: UserWarning: X has feature names, but RandomForestRegressor was fitted without feature names\n",
            "  warnings.warn(\n"
          ]
        },
        {
          "output_type": "stream",
          "name": "stdout",
          "text": [
            "                          Place_Name    Category        City  Rating  \\\n",
            "131          Air Terjun Kedung Pedut  Cagar Alam  Yogyakarta     4.5   \n",
            "165               Kebun Teh Nglinggo  Cagar Alam  Yogyakarta     4.5   \n",
            "66            Margasatwa Muara Angke  Cagar Alam     Jakarta     4.2   \n",
            "30        Wisata Alam Mangrove Angke  Cagar Alam     Jakarta     4.3   \n",
            "70   Cibubur Garden Diary (Cibugary)  Cagar Alam     Jakarta     4.5   \n",
            "340  Hutan Wisata Tinjomoyo Semarang  Cagar Alam    Semarang     4.3   \n",
            "245            Curug Tilu Leuwi Opat  Cagar Alam     Bandung     4.4   \n",
            "304              Sunrise Point Cukul  Cagar Alam     Bandung     4.6   \n",
            "311   Taman Hutan Raya Ir. H. Juanda  Cagar Alam     Bandung     4.5   \n",
            "370              Wisata Eling Bening  Cagar Alam    Semarang     4.3   \n",
            "\n",
            "     Predicted_Score  \n",
            "131            4.523  \n",
            "165            4.523  \n",
            "66             4.518  \n",
            "30             4.518  \n",
            "70             4.518  \n",
            "340            4.516  \n",
            "245            4.516  \n",
            "304            4.516  \n",
            "311            4.516  \n",
            "370            4.516  \n"
          ]
        }
      ]
    },
    {
      "cell_type": "markdown",
      "source": [
        "# Bahari"
      ],
      "metadata": {
        "id": "8PlSZx7A1P2k"
      }
    },
    {
      "cell_type": "code",
      "source": [
        "display_category_recommendations(\"Bahari\")"
      ],
      "metadata": {
        "colab": {
          "base_uri": "https://localhost:8080/"
        },
        "id": "_P3mXMTr08MO",
        "outputId": "1465103a-f18b-4f01-9594-f54a8ae3b80a"
      },
      "execution_count": 31,
      "outputs": [
        {
          "output_type": "stream",
          "name": "stderr",
          "text": [
            "/usr/local/lib/python3.11/dist-packages/sklearn/utils/validation.py:2732: UserWarning: X has feature names, but RandomForestRegressor was fitted without feature names\n",
            "  warnings.warn(\n"
          ]
        },
        {
          "output_type": "stream",
          "name": "stdout",
          "text": [
            "                     Place_Name Category        City  Rating  Predicted_Score\n",
            "155         Pantai Pulang Sawal   Bahari  Yogyakarta     4.5            4.528\n",
            "153       Pantai Ngrawe (Mesra)   Bahari  Yogyakarta     4.5            4.528\n",
            "181  Hutan Mangrove Kulon Progo   Bahari  Yogyakarta     4.1            4.528\n",
            "154             Pantai Ngobaran   Bahari  Yogyakarta     4.6            4.528\n",
            "157          Pantai Pok Tunggal   Bahari  Yogyakarta     4.5            4.528\n",
            "9                  Pulau Tidung   Bahari     Jakarta     4.5            4.521\n",
            "55                 Pantai Ancol   Bahari     Jakarta     4.4            4.521\n",
            "423         Pantai Ria Kenjeran   Bahari    Surabaya     4.2            4.519\n",
            "342               Pantai Baruna   Bahari    Semarang     4.0            4.519\n"
          ]
        }
      ]
    },
    {
      "cell_type": "markdown",
      "source": [
        "# Pusat Perbelanjaan"
      ],
      "metadata": {
        "id": "bcdge7621QLe"
      }
    },
    {
      "cell_type": "code",
      "source": [
        "display_category_recommendations(\"Pusat Perbelanjaan\")"
      ],
      "metadata": {
        "colab": {
          "base_uri": "https://localhost:8080/"
        },
        "id": "L6Tl-00u08Ep",
        "outputId": "64b56238-5c2f-4232-aaca-ef41a7be8b76"
      },
      "execution_count": 32,
      "outputs": [
        {
          "output_type": "stream",
          "name": "stderr",
          "text": [
            "/usr/local/lib/python3.11/dist-packages/sklearn/utils/validation.py:2732: UserWarning: X has feature names, but RandomForestRegressor was fitted without feature names\n",
            "  warnings.warn(\n"
          ]
        },
        {
          "output_type": "stream",
          "name": "stdout",
          "text": [
            "             Place_Name            Category     City  Rating  Predicted_Score\n",
            "79      Plaza Indonesia  Pusat Perbelanjaan  Jakarta     4.7            4.478\n",
            "33   Pasar Taman Puring  Pusat Perbelanjaan  Jakarta     4.4            4.478\n",
            "283          Pasar Baru  Pusat Perbelanjaan  Bandung     4.3            4.478\n",
            "25       Pecinan Glodok  Pusat Perbelanjaan  Jakarta     4.3            4.478\n",
            "24    Pasar Tanah Abang  Pusat Perbelanjaan  Jakarta     4.0            4.478\n"
          ]
        }
      ]
    },
    {
      "cell_type": "markdown",
      "source": [
        "# Tempat Ibadah"
      ],
      "metadata": {
        "id": "a_mVUGys1e-i"
      }
    },
    {
      "cell_type": "code",
      "source": [
        "display_category_recommendations(\"Tempat Ibadah\")"
      ],
      "metadata": {
        "colab": {
          "base_uri": "https://localhost:8080/"
        },
        "id": "HFuwL2EO07_S",
        "outputId": "f6418ff3-f752-42a4-a502-f383188118fb"
      },
      "execution_count": 33,
      "outputs": [
        {
          "output_type": "stream",
          "name": "stderr",
          "text": [
            "/usr/local/lib/python3.11/dist-packages/sklearn/utils/validation.py:2732: UserWarning: X has feature names, but RandomForestRegressor was fitted without feature names\n",
            "  warnings.warn(\n"
          ]
        },
        {
          "output_type": "stream",
          "name": "stdout",
          "text": [
            "                            Place_Name       Category      City  Rating  \\\n",
            "278  Masjid Agung Trans Studio Bandung  Tempat Ibadah   Bandung     4.8   \n",
            "411           Masjid Nasional Al-Akbar  Tempat Ibadah  Surabaya     4.9   \n",
            "302                  Masjid Al-Imtizaj  Tempat Ibadah   Bandung     4.7   \n",
            "287                  Masjid Salman ITB  Tempat Ibadah   Bandung     4.8   \n",
            "410          Masjid Muhammad Cheng Hoo  Tempat Ibadah  Surabaya     4.7   \n",
            "22                     Gereja Katedral  Tempat Ibadah   Jakarta     4.8   \n",
            "\n",
            "     Predicted_Score  \n",
            "278            4.478  \n",
            "411            4.478  \n",
            "302            4.478  \n",
            "287            4.478  \n",
            "410            4.478  \n",
            "22             4.478  \n"
          ]
        }
      ]
    }
  ]
}